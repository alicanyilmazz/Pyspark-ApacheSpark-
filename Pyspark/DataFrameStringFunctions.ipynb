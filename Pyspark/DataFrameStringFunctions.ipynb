{
 "cells": [
  {
   "cell_type": "code",
   "execution_count": 1,
   "metadata": {},
   "outputs": [],
   "source": [
    "import findspark\n",
    "findspark.init()\n",
    "from pyspark.sql import SparkSession\n",
    "spark = SparkSession.builder \\\n",
    ".master(\"local[2]\") \\\n",
    ".appName(\"StringOperations\") \\\n",
    ".config(\"spark.executor.memory\",\"4g\") \\\n",
    ".config(\"spark.driver.memory\",\"2g\") \\\n",
    ".getOrCreate()"
   ]
  },
  {
   "cell_type": "code",
   "execution_count": 55,
   "metadata": {},
   "outputs": [],
   "source": [
    "simple_df = spark.read \\\n",
    ".option(\"header\",\"True\") \\\n",
    ".option(\"inferSchema\",\"True\") \\\n",
    ".option(\"sep\",\",\") \\\n",
    ".csv(\"C:\\\\Users\\\\alican\\\\Desktop\\\\SparkData\\\\LastDirtyData.csv\")"
   ]
  },
  {
   "cell_type": "code",
   "execution_count": 56,
   "metadata": {},
   "outputs": [
    {
     "name": "stdout",
     "output_type": "stream",
     "text": [
      "+------+---------+---+--------+-----------+-----------+-----------+--------------------+\n",
      "|sirano|     isim|yas|cinsiyet|     meslek|      sehir|aylik_gelir|            mal_mulk|\n",
      "+------+---------+---+--------+-----------+-----------+-----------+--------------------+\n",
      "|     1|    Cemal| 35|       E|       Isci|     Ankara|     3500.0|               araba|\n",
      "|     2|   ceyda | 42|       K|      Memur|    Kayseri|     4200.0|            araba|ev|\n",
      "|     3|    Timur| 30|    null|    sarkici|Istanbul   |     9000.0|     araba|ev|yazlik|\n",
      "|     4|   Burcu | 29|       K|Pazarlamaci|     Ankara|     4200.0|               araba|\n",
      "|     5|  Yasemin| 23|       K|Pazarlamaci|      Bursa|     4800.0|               araba|\n",
      "|     6|      Ali| 33|       E|      Memur|     Ankara|     4250.0|                  ev|\n",
      "|     7|    Dilek| 29|       K|Pazarlamaci|   Istanbul|     7300.0|        araba|yazlik|\n",
      "|     8|    Murat| 31|       E|    sarkici|   Istanbul|    12000.0|araba|ev|isyeri|y...|\n",
      "|     9|    Ahmet| 33|       E|     Doktor|     Ankara|   180000.0|     araba|ev|yazlik|\n",
      "|    10| Muhittin| 46|       E|     Berber|   Istanbul|    12000.0|     araba|ev|isyeri|\n",
      "|    11| Hicaziye| 47|       K| Tuhafiyeci|       null|        4.8|              isyeri|\n",
      "|    12|    Harun| 43|       E|    Tornaci|    Ankara |     4200.0|               araba|\n",
      "|    13|    hakki| 33|       E|      memur|     Corum |     3750.0|                  ev|\n",
      "|    14|    Gamze| 37|       K|     Doktor|      Izmir|    14250.0|               araba|\n",
      "|    15|   Sehmuz| 41|       E|    sarkici|     Ankara|     8700.0|               araba|\n",
      "+------+---------+---+--------+-----------+-----------+-----------+--------------------+\n",
      "\n"
     ]
    }
   ],
   "source": [
    "simple_df.show()"
   ]
  },
  {
   "cell_type": "code",
   "execution_count": 57,
   "metadata": {},
   "outputs": [],
   "source": [
    "#We will download all of library for sql\n",
    "from pyspark.sql.functions import *"
   ]
  },
  {
   "cell_type": "code",
   "execution_count": null,
   "metadata": {},
   "outputs": [],
   "source": [
    "concat_df = simple_df \\\n",
    ".withColumn(\"meslek_sehir\",concat(col(\"meslek\"),col(\"sehir\")))"
   ]
  },
  {
   "cell_type": "code",
   "execution_count": 62,
   "metadata": {
    "scrolled": true
   },
   "outputs": [
    {
     "name": "stdout",
     "output_type": "stream",
     "text": [
      "+------+--------+---+--------+-----------+-----------+-----------+----------------------+---------------------+\n",
      "|sirano|isim    |yas|cinsiyet|meslek     |sehir      |aylik_gelir|mal_mulk              |meslek_sehir         |\n",
      "+------+--------+---+--------+-----------+-----------+-----------+----------------------+---------------------+\n",
      "|1     |Cemal   |35 |E       |Isci       |Ankara     |3500.0     |araba                 |IsciAnkara           |\n",
      "|2     |ceyda   |42 |K       |Memur      |Kayseri    |4200.0     |araba|ev              |MemurKayseri         |\n",
      "|3     |Timur   |30 |null    |sarkici    |Istanbul   |9000.0     |araba|ev|yazlik       |sarkiciIstanbul      |\n",
      "|4     |Burcu   |29 |K       |Pazarlamaci|    Ankara |4200.0     |araba                 |Pazarlamaci    Ankara|\n",
      "|5     |Yasemin |23 |K       |Pazarlamaci|Bursa      |4800.0     |araba                 |PazarlamaciBursa     |\n",
      "|6     | Ali    |33 |E       |Memur      |Ankara     |4250.0     |ev                    |MemurAnkara          |\n",
      "|7     |Dilek   |29 |K       |Pazarlamaci|Istanbul   |7300.0     |araba|yazlik          |PazarlamaciIstanbul  |\n",
      "|8     |Murat   |31 |E       |sarkici    |Istanbul   |12000.0    |araba|ev|isyeri|yazlik|sarkiciIstanbul      |\n",
      "|9     |Ahmet   |33 |E       |Doktor     |Ankara     |180000.0   |araba|ev|yazlik       |DoktorAnkara         |\n",
      "|10    |Muhittin|46 |E       |Berber     | Istanbul  |12000.0    |araba|ev|isyeri       |Berber Istanbul      |\n",
      "+------+--------+---+--------+-----------+-----------+-----------+----------------------+---------------------+\n",
      "only showing top 10 rows\n",
      "\n"
     ]
    }
   ],
   "source": [
    "concat_df.show(n=10,truncate=False)"
   ]
  },
  {
   "cell_type": "code",
   "execution_count": 65,
   "metadata": {},
   "outputs": [],
   "source": [
    "# 1.CONCAT METHOD\n"
   ]
  },
  {
   "cell_type": "code",
   "execution_count": 63,
   "metadata": {},
   "outputs": [],
   "source": [
    "concat_df = simple_df \\\n",
    ".withColumn(\"meslek_sehir\",concat(col(\"meslek\"),lit(\"-\"),col(\"sehir\")))"
   ]
  },
  {
   "cell_type": "code",
   "execution_count": 64,
   "metadata": {},
   "outputs": [
    {
     "name": "stdout",
     "output_type": "stream",
     "text": [
      "+------+--------+---+--------+-----------+-----------+-----------+----------------------+----------------------+\n",
      "|sirano|isim    |yas|cinsiyet|meslek     |sehir      |aylik_gelir|mal_mulk              |meslek_sehir          |\n",
      "+------+--------+---+--------+-----------+-----------+-----------+----------------------+----------------------+\n",
      "|1     |Cemal   |35 |E       |Isci       |Ankara     |3500.0     |araba                 |Isci-Ankara           |\n",
      "|2     |ceyda   |42 |K       |Memur      |Kayseri    |4200.0     |araba|ev              |Memur-Kayseri         |\n",
      "|3     |Timur   |30 |null    |sarkici    |Istanbul   |9000.0     |araba|ev|yazlik       |sarkici-Istanbul      |\n",
      "|4     |Burcu   |29 |K       |Pazarlamaci|    Ankara |4200.0     |araba                 |Pazarlamaci-    Ankara|\n",
      "|5     |Yasemin |23 |K       |Pazarlamaci|Bursa      |4800.0     |araba                 |Pazarlamaci-Bursa     |\n",
      "|6     | Ali    |33 |E       |Memur      |Ankara     |4250.0     |ev                    |Memur-Ankara          |\n",
      "|7     |Dilek   |29 |K       |Pazarlamaci|Istanbul   |7300.0     |araba|yazlik          |Pazarlamaci-Istanbul  |\n",
      "|8     |Murat   |31 |E       |sarkici    |Istanbul   |12000.0    |araba|ev|isyeri|yazlik|sarkici-Istanbul      |\n",
      "|9     |Ahmet   |33 |E       |Doktor     |Ankara     |180000.0   |araba|ev|yazlik       |Doktor-Ankara         |\n",
      "|10    |Muhittin|46 |E       |Berber     | Istanbul  |12000.0    |araba|ev|isyeri       |Berber- Istanbul      |\n",
      "+------+--------+---+--------+-----------+-----------+-----------+----------------------+----------------------+\n",
      "only showing top 10 rows\n",
      "\n"
     ]
    }
   ],
   "source": [
    "concat_df.show(n=10,truncate=False)"
   ]
  },
  {
   "cell_type": "code",
   "execution_count": 67,
   "metadata": {},
   "outputs": [],
   "source": [
    "# 2.NUMBER FORMAT\n"
   ]
  },
  {
   "cell_type": "code",
   "execution_count": 69,
   "metadata": {},
   "outputs": [
    {
     "name": "stdout",
     "output_type": "stream",
     "text": [
      "+------+--------+---+--------+-----------+-----------+-----------+----------------------+-----------+\n",
      "|sirano|isim    |yas|cinsiyet|meslek     |sehir      |aylik_gelir|mal_mulk              |Aylik Gelir|\n",
      "+------+--------+---+--------+-----------+-----------+-----------+----------------------+-----------+\n",
      "|1     |Cemal   |35 |E       |Isci       |Ankara     |3500.0     |araba                 |3,500.000  |\n",
      "|2     |ceyda   |42 |K       |Memur      |Kayseri    |4200.0     |araba|ev              |4,200.000  |\n",
      "|3     |Timur   |30 |null    |sarkici    |Istanbul   |9000.0     |araba|ev|yazlik       |9,000.000  |\n",
      "|4     |Burcu   |29 |K       |Pazarlamaci|    Ankara |4200.0     |araba                 |4,200.000  |\n",
      "|5     |Yasemin |23 |K       |Pazarlamaci|Bursa      |4800.0     |araba                 |4,800.000  |\n",
      "|6     | Ali    |33 |E       |Memur      |Ankara     |4250.0     |ev                    |4,250.000  |\n",
      "|7     |Dilek   |29 |K       |Pazarlamaci|Istanbul   |7300.0     |araba|yazlik          |7,300.000  |\n",
      "|8     |Murat   |31 |E       |sarkici    |Istanbul   |12000.0    |araba|ev|isyeri|yazlik|12,000.000 |\n",
      "|9     |Ahmet   |33 |E       |Doktor     |Ankara     |180000.0   |araba|ev|yazlik       |180,000.000|\n",
      "|10    |Muhittin|46 |E       |Berber     | Istanbul  |12000.0    |araba|ev|isyeri       |12,000.000 |\n",
      "+------+--------+---+--------+-----------+-----------+-----------+----------------------+-----------+\n",
      "only showing top 10 rows\n",
      "\n"
     ]
    }
   ],
   "source": [
    " df_number_format=simple_df \\\n",
    "    .withColumn(\"Aylik Gelir\",format_number(col(\"aylik_gelir\"),3))\n",
    "    \n",
    "df_number_format.show(n=10,truncate=False)"
   ]
  },
  {
   "cell_type": "code",
   "execution_count": 70,
   "metadata": {},
   "outputs": [],
   "source": [
    "# 3.LOWER,INITCAP,LENGHT\n"
   ]
  },
  {
   "cell_type": "code",
   "execution_count": 72,
   "metadata": {},
   "outputs": [
    {
     "name": "stdout",
     "output_type": "stream",
     "text": [
      "+------+-------+---+--------+-----------+-----------+-----------+---------------+-----------+--------+------------+\n",
      "|sirano|isim   |yas|cinsiyet|meslek     |sehir      |aylik_gelir|mal_mulk       |New_Meslek |New_Isim|sehir_length|\n",
      "+------+-------+---+--------+-----------+-----------+-----------+---------------+-----------+--------+------------+\n",
      "|1     |Cemal  |35 |E       |Isci       |Ankara     |3500.0     |araba          |isci       |Cemal   |6           |\n",
      "|2     |ceyda  |42 |K       |Memur      |Kayseri    |4200.0     |araba|ev       |memur      |Ceyda   |7           |\n",
      "|3     |Timur  |30 |null    |sarkici    |Istanbul   |9000.0     |araba|ev|yazlik|sarkici    |Timur   |11          |\n",
      "|4     |Burcu  |29 |K       |Pazarlamaci|    Ankara |4200.0     |araba          |pazarlamaci|Burcu   |10          |\n",
      "|5     |Yasemin|23 |K       |Pazarlamaci|Bursa      |4800.0     |araba          |pazarlamaci|Yasemin |5           |\n",
      "+------+-------+---+--------+-----------+-----------+-----------+---------------+-----------+--------+------------+\n",
      "only showing top 5 rows\n",
      "\n"
     ]
    }
   ],
   "source": [
    "# meslek küçük harf, isimlerin ilk harfi büyük, sehirlerin kelime uzunlukları\n",
    "\n",
    "df_lower = simple_df \\\n",
    ".withColumn(\"New_Meslek\", lower(col(\"meslek\"))) \\\n",
    ".withColumn(\"New_Isim\", initcap(col(\"isim\"))) \\\n",
    ".withColumn(\"sehir_length\", length(col(\"sehir\")))\n",
    "\n",
    "df_lower.show(n=5, truncate=False) "
   ]
  },
  {
   "cell_type": "code",
   "execution_count": 74,
   "metadata": {},
   "outputs": [],
   "source": [
    "# 4.TRIM\n"
   ]
  },
  {
   "cell_type": "code",
   "execution_count": 75,
   "metadata": {
    "scrolled": true
   },
   "outputs": [
    {
     "name": "stdout",
     "output_type": "stream",
     "text": [
      "+------+-------+---+--------+-----------+-----------+-----------+---------------+-----------+-----------+----------+\n",
      "|sirano|isim   |yas|cinsiyet|meslek     |sehir      |aylik_gelir|mal_mulk       |sehir_rtrim|sehir_ltrim|sehir_trim|\n",
      "+------+-------+---+--------+-----------+-----------+-----------+---------------+-----------+-----------+----------+\n",
      "|1     |Cemal  |35 |E       |Isci       |Ankara     |3500.0     |araba          |Ankara     |Ankara     |Ankara    |\n",
      "|2     |ceyda  |42 |K       |Memur      |Kayseri    |4200.0     |araba|ev       |Kayseri    |Kayseri    |Kayseri   |\n",
      "|3     |Timur  |30 |null    |sarkici    |Istanbul   |9000.0     |araba|ev|yazlik|Istanbul   |Istanbul   |Istanbul  |\n",
      "|4     |Burcu  |29 |K       |Pazarlamaci|    Ankara |4200.0     |araba          |    Ankara |Ankara     |Ankara    |\n",
      "|5     |Yasemin|23 |K       |Pazarlamaci|Bursa      |4800.0     |araba          |Bursa      |Bursa      |Bursa     |\n",
      "+------+-------+---+--------+-----------+-----------+-----------+---------------+-----------+-----------+----------+\n",
      "only showing top 5 rows\n",
      "\n"
     ]
    }
   ],
   "source": [
    "df_trim = simple_df \\\n",
    ".withColumn(\"sehir_rtrim\", rtrim(col(\"sehir\"))) \\\n",
    ".withColumn(\"sehir_ltrim\", ltrim(col(\"sehir\"))) \\\n",
    ".withColumn(\"sehir_trim\", trim(col(\"sehir\")))\n",
    "\n",
    "df_trim.show(n=5, truncate=False)"
   ]
  },
  {
   "cell_type": "code",
   "execution_count": 77,
   "metadata": {},
   "outputs": [],
   "source": [
    "# 5.REPLACE , SPLIT\n"
   ]
  },
  {
   "cell_type": "code",
   "execution_count": 78,
   "metadata": {},
   "outputs": [
    {
     "name": "stdout",
     "output_type": "stream",
     "text": [
      "+------+-------+---+--------+-----------+-----------+-----------+---------------+-----------+-------------------+-------------------+\n",
      "|sirano|isim   |yas|cinsiyet|meslek     |sehir      |aylik_gelir|mal_mulk       |sehir_ist  |mal_mulk_split     |mal_mulk_ilk_eleman|\n",
      "+------+-------+---+--------+-----------+-----------+-----------+---------------+-----------+-------------------+-------------------+\n",
      "|1     |Cemal  |35 |E       |Isci       |Ankara     |3500.0     |araba          |Ankara     |[araba]            |araba              |\n",
      "|2     |ceyda  |42 |K       |Memur      |Kayseri    |4200.0     |araba|ev       |Kayseri    |[araba, ev]        |araba              |\n",
      "|3     |Timur  |30 |null    |sarkici    |Istanbul   |9000.0     |araba|ev|yazlik|İSTanbul   |[araba, ev, yazlik]|araba              |\n",
      "|4     |Burcu  |29 |K       |Pazarlamaci|    Ankara |4200.0     |araba          |    Ankara |[araba]            |araba              |\n",
      "|5     |Yasemin|23 |K       |Pazarlamaci|Bursa      |4800.0     |araba          |Bursa      |[araba]            |araba              |\n",
      "+------+-------+---+--------+-----------+-----------+-----------+---------------+-----------+-------------------+-------------------+\n",
      "only showing top 5 rows\n",
      "\n"
     ]
    }
   ],
   "source": [
    "df_replace = simple_df \\\n",
    ".withColumn(\"sehir_ist\", regexp_replace(col(\"sehir\"), \"Ist\", \"İST\")) \\\n",
    ".withColumn(\"mal_mulk_split\", split(col(\"mal_mulk\"), \"\\\\|\")) \\\n",
    ".withColumn(\"mal_mulk_ilk_eleman\", col(\"mal_mulk_split\")[0])\n",
    "\n",
    "df_replace.show(n=5, truncate=False)"
   ]
  },
  {
   "cell_type": "code",
   "execution_count": 79,
   "metadata": {},
   "outputs": [
    {
     "name": "stdout",
     "output_type": "stream",
     "text": [
      "root\n",
      " |-- sirano: integer (nullable = true)\n",
      " |-- isim: string (nullable = true)\n",
      " |-- yas: integer (nullable = true)\n",
      " |-- cinsiyet: string (nullable = true)\n",
      " |-- meslek: string (nullable = true)\n",
      " |-- sehir: string (nullable = true)\n",
      " |-- aylik_gelir: double (nullable = true)\n",
      " |-- mal_mulk: string (nullable = true)\n",
      " |-- sehir_ist: string (nullable = true)\n",
      " |-- mal_mulk_split: array (nullable = true)\n",
      " |    |-- element: string (containsNull = true)\n",
      " |-- mal_mulk_ilk_eleman: string (nullable = true)\n",
      "\n"
     ]
    }
   ],
   "source": [
    "df_replace.printSchema()"
   ]
  },
  {
   "cell_type": "code",
   "execution_count": null,
   "metadata": {},
   "outputs": [],
   "source": []
  }
 ],
 "metadata": {
  "kernelspec": {
   "display_name": "Python 3",
   "language": "python",
   "name": "python3"
  },
  "language_info": {
   "codemirror_mode": {
    "name": "ipython",
    "version": 3
   },
   "file_extension": ".py",
   "mimetype": "text/x-python",
   "name": "python",
   "nbconvert_exporter": "python",
   "pygments_lexer": "ipython3",
   "version": "3.7.3"
  }
 },
 "nbformat": 4,
 "nbformat_minor": 2
}
