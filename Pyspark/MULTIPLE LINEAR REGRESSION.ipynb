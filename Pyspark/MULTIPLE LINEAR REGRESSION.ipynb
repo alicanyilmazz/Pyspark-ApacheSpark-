{
 "cells": [
  {
   "cell_type": "code",
   "execution_count": 4,
   "metadata": {},
   "outputs": [],
   "source": [
    "import findspark\n",
    "findspark.init()"
   ]
  },
  {
   "cell_type": "code",
   "execution_count": 5,
   "metadata": {},
   "outputs": [],
   "source": [
    "from pyspark.sql import SparkSession\n",
    "spark = SparkSession.builder \\\n",
    ".appName(\"LinearRegression\") \\\n",
    ".master(\"local[4]\") \\\n",
    ".config(\"spark.driver.memory\",\"2g\") \\\n",
    ".config(\"spark.executor.memory\",\"4g\") \\\n",
    ".getOrCreate()"
   ]
  },
  {
   "cell_type": "markdown",
   "metadata": {},
   "source": [
    "# Reading Data Set"
   ]
  },
  {
   "cell_type": "code",
   "execution_count": 6,
   "metadata": {},
   "outputs": [],
   "source": [
    "df = spark.read.format(\"csv\") \\\n",
    ".option(\"header\",True) \\\n",
    ".option(\"sep\",\",\") \\\n",
    ".option(\"inferSchema\",True) \\\n",
    ".load(\"Q:\\\\SparkDatasets\\\\Advertising.csv\")"
   ]
  },
  {
   "cell_type": "code",
   "execution_count": 7,
   "metadata": {},
   "outputs": [
    {
     "data": {
      "text/html": [
       "<div>\n",
       "<style scoped>\n",
       "    .dataframe tbody tr th:only-of-type {\n",
       "        vertical-align: middle;\n",
       "    }\n",
       "\n",
       "    .dataframe tbody tr th {\n",
       "        vertical-align: top;\n",
       "    }\n",
       "\n",
       "    .dataframe thead th {\n",
       "        text-align: right;\n",
       "    }\n",
       "</style>\n",
       "<table border=\"1\" class=\"dataframe\">\n",
       "  <thead>\n",
       "    <tr style=\"text-align: right;\">\n",
       "      <th></th>\n",
       "      <th>_c0</th>\n",
       "      <th>TV</th>\n",
       "      <th>Radio</th>\n",
       "      <th>Newspaper</th>\n",
       "      <th>Sales</th>\n",
       "    </tr>\n",
       "  </thead>\n",
       "  <tbody>\n",
       "    <tr>\n",
       "      <th>0</th>\n",
       "      <td>1</td>\n",
       "      <td>230.1</td>\n",
       "      <td>37.8</td>\n",
       "      <td>69.2</td>\n",
       "      <td>22.1</td>\n",
       "    </tr>\n",
       "    <tr>\n",
       "      <th>1</th>\n",
       "      <td>2</td>\n",
       "      <td>44.5</td>\n",
       "      <td>39.3</td>\n",
       "      <td>45.1</td>\n",
       "      <td>10.4</td>\n",
       "    </tr>\n",
       "    <tr>\n",
       "      <th>2</th>\n",
       "      <td>3</td>\n",
       "      <td>17.2</td>\n",
       "      <td>45.9</td>\n",
       "      <td>69.3</td>\n",
       "      <td>9.3</td>\n",
       "    </tr>\n",
       "    <tr>\n",
       "      <th>3</th>\n",
       "      <td>4</td>\n",
       "      <td>151.5</td>\n",
       "      <td>41.3</td>\n",
       "      <td>58.5</td>\n",
       "      <td>18.5</td>\n",
       "    </tr>\n",
       "    <tr>\n",
       "      <th>4</th>\n",
       "      <td>5</td>\n",
       "      <td>180.8</td>\n",
       "      <td>10.8</td>\n",
       "      <td>58.4</td>\n",
       "      <td>12.9</td>\n",
       "    </tr>\n",
       "  </tbody>\n",
       "</table>\n",
       "</div>"
      ],
      "text/plain": [
       "   _c0     TV  Radio  Newspaper  Sales\n",
       "0    1  230.1   37.8       69.2   22.1\n",
       "1    2   44.5   39.3       45.1   10.4\n",
       "2    3   17.2   45.9       69.3    9.3\n",
       "3    4  151.5   41.3       58.5   18.5\n",
       "4    5  180.8   10.8       58.4   12.9"
      ]
     },
     "execution_count": 7,
     "metadata": {},
     "output_type": "execute_result"
    }
   ],
   "source": [
    "df.toPandas().head()"
   ]
  },
  {
   "cell_type": "markdown",
   "metadata": {},
   "source": [
    "# Changing Column Name"
   ]
  },
  {
   "cell_type": "markdown",
   "metadata": {},
   "source": [
    "<span style=\"color:green\">Hedef değişkenin ismini \"Sales\" 'ı \"label\" olarak değiştiriyorum. </span>"
   ]
  },
  {
   "cell_type": "code",
   "execution_count": 8,
   "metadata": {},
   "outputs": [],
   "source": [
    "yeni_nitelikler = [\"id\", \"TV\",\"Radio\",\"Newspaper\",\"label\"]"
   ]
  },
  {
   "cell_type": "code",
   "execution_count": 9,
   "metadata": {},
   "outputs": [],
   "source": [
    "df2 = df.selectExpr(\"_c0 as id\", \"TV\",\"Radio\",\"Newspaper\",\"Sales as label\")"
   ]
  },
  {
   "cell_type": "code",
   "execution_count": 10,
   "metadata": {},
   "outputs": [
    {
     "data": {
      "text/html": [
       "<div>\n",
       "<style scoped>\n",
       "    .dataframe tbody tr th:only-of-type {\n",
       "        vertical-align: middle;\n",
       "    }\n",
       "\n",
       "    .dataframe tbody tr th {\n",
       "        vertical-align: top;\n",
       "    }\n",
       "\n",
       "    .dataframe thead th {\n",
       "        text-align: right;\n",
       "    }\n",
       "</style>\n",
       "<table border=\"1\" class=\"dataframe\">\n",
       "  <thead>\n",
       "    <tr style=\"text-align: right;\">\n",
       "      <th></th>\n",
       "      <th>id</th>\n",
       "      <th>TV</th>\n",
       "      <th>Radio</th>\n",
       "      <th>Newspaper</th>\n",
       "      <th>label</th>\n",
       "    </tr>\n",
       "  </thead>\n",
       "  <tbody>\n",
       "    <tr>\n",
       "      <th>0</th>\n",
       "      <td>1</td>\n",
       "      <td>230.1</td>\n",
       "      <td>37.8</td>\n",
       "      <td>69.2</td>\n",
       "      <td>22.1</td>\n",
       "    </tr>\n",
       "    <tr>\n",
       "      <th>1</th>\n",
       "      <td>2</td>\n",
       "      <td>44.5</td>\n",
       "      <td>39.3</td>\n",
       "      <td>45.1</td>\n",
       "      <td>10.4</td>\n",
       "    </tr>\n",
       "    <tr>\n",
       "      <th>2</th>\n",
       "      <td>3</td>\n",
       "      <td>17.2</td>\n",
       "      <td>45.9</td>\n",
       "      <td>69.3</td>\n",
       "      <td>9.3</td>\n",
       "    </tr>\n",
       "    <tr>\n",
       "      <th>3</th>\n",
       "      <td>4</td>\n",
       "      <td>151.5</td>\n",
       "      <td>41.3</td>\n",
       "      <td>58.5</td>\n",
       "      <td>18.5</td>\n",
       "    </tr>\n",
       "    <tr>\n",
       "      <th>4</th>\n",
       "      <td>5</td>\n",
       "      <td>180.8</td>\n",
       "      <td>10.8</td>\n",
       "      <td>58.4</td>\n",
       "      <td>12.9</td>\n",
       "    </tr>\n",
       "  </tbody>\n",
       "</table>\n",
       "</div>"
      ],
      "text/plain": [
       "   id     TV  Radio  Newspaper  label\n",
       "0   1  230.1   37.8       69.2   22.1\n",
       "1   2   44.5   39.3       45.1   10.4\n",
       "2   3   17.2   45.9       69.3    9.3\n",
       "3   4  151.5   41.3       58.5   18.5\n",
       "4   5  180.8   10.8       58.4   12.9"
      ]
     },
     "execution_count": 10,
     "metadata": {},
     "output_type": "execute_result"
    }
   ],
   "source": [
    "df2.toPandas().head()"
   ]
  },
  {
   "cell_type": "markdown",
   "metadata": {},
   "source": [
    "<span style=\"color:orange\">Nümerik nitelikler ile hedef niteliği ayrı ayrı listelerde tutatlı daha sonra işimize yaracak bunlar. </span>"
   ]
  },
  {
   "cell_type": "code",
   "execution_count": 11,
   "metadata": {},
   "outputs": [],
   "source": [
    "numerik_nitelikler = [\"TV\",\"Radio\"]\n",
    "label = [\"label\"]"
   ]
  },
  {
   "cell_type": "code",
   "execution_count": 12,
   "metadata": {
    "scrolled": false
   },
   "outputs": [
    {
     "data": {
      "text/html": [
       "<div>\n",
       "<style scoped>\n",
       "    .dataframe tbody tr th:only-of-type {\n",
       "        vertical-align: middle;\n",
       "    }\n",
       "\n",
       "    .dataframe tbody tr th {\n",
       "        vertical-align: top;\n",
       "    }\n",
       "\n",
       "    .dataframe thead th {\n",
       "        text-align: right;\n",
       "    }\n",
       "</style>\n",
       "<table border=\"1\" class=\"dataframe\">\n",
       "  <thead>\n",
       "    <tr style=\"text-align: right;\">\n",
       "      <th></th>\n",
       "      <th>summary</th>\n",
       "      <th>id</th>\n",
       "      <th>TV</th>\n",
       "      <th>Radio</th>\n",
       "      <th>Newspaper</th>\n",
       "      <th>label</th>\n",
       "    </tr>\n",
       "  </thead>\n",
       "  <tbody>\n",
       "    <tr>\n",
       "      <th>0</th>\n",
       "      <td>count</td>\n",
       "      <td>200</td>\n",
       "      <td>200</td>\n",
       "      <td>200</td>\n",
       "      <td>200</td>\n",
       "      <td>200</td>\n",
       "    </tr>\n",
       "    <tr>\n",
       "      <th>1</th>\n",
       "      <td>mean</td>\n",
       "      <td>100.5</td>\n",
       "      <td>147.0425</td>\n",
       "      <td>23.264000000000024</td>\n",
       "      <td>30.553999999999995</td>\n",
       "      <td>14.022500000000003</td>\n",
       "    </tr>\n",
       "    <tr>\n",
       "      <th>2</th>\n",
       "      <td>stddev</td>\n",
       "      <td>57.879184513951124</td>\n",
       "      <td>85.85423631490805</td>\n",
       "      <td>14.846809176168728</td>\n",
       "      <td>21.77862083852283</td>\n",
       "      <td>5.217456565710477</td>\n",
       "    </tr>\n",
       "    <tr>\n",
       "      <th>3</th>\n",
       "      <td>min</td>\n",
       "      <td>1</td>\n",
       "      <td>0.7</td>\n",
       "      <td>0.0</td>\n",
       "      <td>0.3</td>\n",
       "      <td>1.6</td>\n",
       "    </tr>\n",
       "    <tr>\n",
       "      <th>4</th>\n",
       "      <td>max</td>\n",
       "      <td>200</td>\n",
       "      <td>296.4</td>\n",
       "      <td>49.6</td>\n",
       "      <td>114.0</td>\n",
       "      <td>27.0</td>\n",
       "    </tr>\n",
       "  </tbody>\n",
       "</table>\n",
       "</div>"
      ],
      "text/plain": [
       "  summary                  id                 TV               Radio  \\\n",
       "0   count                 200                200                 200   \n",
       "1    mean               100.5           147.0425  23.264000000000024   \n",
       "2  stddev  57.879184513951124  85.85423631490805  14.846809176168728   \n",
       "3     min                   1                0.7                 0.0   \n",
       "4     max                 200              296.4                49.6   \n",
       "\n",
       "            Newspaper               label  \n",
       "0                 200                 200  \n",
       "1  30.553999999999995  14.022500000000003  \n",
       "2   21.77862083852283   5.217456565710477  \n",
       "3                 0.3                 1.6  \n",
       "4               114.0                27.0  "
      ]
     },
     "execution_count": 12,
     "metadata": {},
     "output_type": "execute_result"
    }
   ],
   "source": [
    "df2.describe().toPandas().head()"
   ]
  },
  {
   "cell_type": "markdown",
   "metadata": {},
   "source": [
    "<span style=\"color:green\">Elimizde kategorik değişken olmadıgından stringIndexer ve OneHotEncoding uygulamayacağız. </span>"
   ]
  },
  {
   "cell_type": "markdown",
   "metadata": {},
   "source": [
    "# Data Preparing"
   ]
  },
  {
   "cell_type": "code",
   "execution_count": 13,
   "metadata": {},
   "outputs": [],
   "source": [
    "from pyspark.ml.feature import VectorAssembler\n",
    "vector_assembler = VectorAssembler() \\\n",
    ".setInputCols(numerik_nitelikler) \\\n",
    ".setOutputCol(\"features\")"
   ]
  },
  {
   "cell_type": "markdown",
   "metadata": {},
   "source": [
    "<span style=\"color:green\"> features ' u makine öğrenme modeline girecek en son nitelik ismi olarak veriyoruz biri \"features\" idi diğeri \"label\" idi. </span>"
   ]
  },
  {
   "cell_type": "markdown",
   "metadata": {},
   "source": [
    "# Regression Model"
   ]
  },
  {
   "cell_type": "code",
   "execution_count": 14,
   "metadata": {},
   "outputs": [],
   "source": [
    "from pyspark.ml.regression import LinearRegression\n",
    "lr_obj = LinearRegression() \\\n",
    ".setFeaturesCol(\"features\") \\\n",
    ".setLabelCol(\"label\")"
   ]
  },
  {
   "cell_type": "markdown",
   "metadata": {},
   "source": [
    "# Pipeline Model"
   ]
  },
  {
   "cell_type": "code",
   "execution_count": 15,
   "metadata": {},
   "outputs": [],
   "source": [
    "from pyspark.ml import Pipeline\n",
    "pipeline_obj = Pipeline() \\\n",
    ".setStages([vector_assembler, lr_obj])"
   ]
  },
  {
   "cell_type": "markdown",
   "metadata": {},
   "source": [
    "# Sperate Dataset"
   ]
  },
  {
   "cell_type": "code",
   "execution_count": 16,
   "metadata": {},
   "outputs": [],
   "source": [
    "train_df, test_df = df2.randomSplit([0.8, 0.2], seed=142)"
   ]
  },
  {
   "cell_type": "markdown",
   "metadata": {},
   "source": [
    "# Train Model"
   ]
  },
  {
   "cell_type": "code",
   "execution_count": 17,
   "metadata": {},
   "outputs": [],
   "source": [
    "pipeline_model = pipeline_obj.fit(train_df)"
   ]
  },
  {
   "cell_type": "markdown",
   "metadata": {},
   "source": [
    "<span style=\"color:red\">Modeli pipline içerisinde kullandığımıza dikkat edelim. </span>"
   ]
  },
  {
   "cell_type": "markdown",
   "metadata": {},
   "source": [
    "# Model Testing"
   ]
  },
  {
   "cell_type": "code",
   "execution_count": 28,
   "metadata": {},
   "outputs": [
    {
     "data": {
      "text/html": [
       "<div>\n",
       "<style scoped>\n",
       "    .dataframe tbody tr th:only-of-type {\n",
       "        vertical-align: middle;\n",
       "    }\n",
       "\n",
       "    .dataframe tbody tr th {\n",
       "        vertical-align: top;\n",
       "    }\n",
       "\n",
       "    .dataframe thead th {\n",
       "        text-align: right;\n",
       "    }\n",
       "</style>\n",
       "<table border=\"1\" class=\"dataframe\">\n",
       "  <thead>\n",
       "    <tr style=\"text-align: right;\">\n",
       "      <th></th>\n",
       "      <th>id</th>\n",
       "      <th>TV</th>\n",
       "      <th>Radio</th>\n",
       "      <th>Newspaper</th>\n",
       "      <th>label</th>\n",
       "      <th>features</th>\n",
       "      <th>prediction</th>\n",
       "    </tr>\n",
       "  </thead>\n",
       "  <tbody>\n",
       "    <tr>\n",
       "      <th>0</th>\n",
       "      <td>3</td>\n",
       "      <td>17.2</td>\n",
       "      <td>45.9</td>\n",
       "      <td>69.3</td>\n",
       "      <td>9.3</td>\n",
       "      <td>[17.2, 45.9]</td>\n",
       "      <td>12.773880</td>\n",
       "    </tr>\n",
       "    <tr>\n",
       "      <th>1</th>\n",
       "      <td>6</td>\n",
       "      <td>8.7</td>\n",
       "      <td>48.9</td>\n",
       "      <td>75.0</td>\n",
       "      <td>7.2</td>\n",
       "      <td>[8.7, 48.9]</td>\n",
       "      <td>12.991416</td>\n",
       "    </tr>\n",
       "    <tr>\n",
       "      <th>2</th>\n",
       "      <td>9</td>\n",
       "      <td>8.6</td>\n",
       "      <td>2.1</td>\n",
       "      <td>1.0</td>\n",
       "      <td>4.8</td>\n",
       "      <td>[8.6, 2.1]</td>\n",
       "      <td>3.731130</td>\n",
       "    </tr>\n",
       "    <tr>\n",
       "      <th>3</th>\n",
       "      <td>10</td>\n",
       "      <td>199.8</td>\n",
       "      <td>2.6</td>\n",
       "      <td>21.2</td>\n",
       "      <td>10.6</td>\n",
       "      <td>[199.8, 2.6]</td>\n",
       "      <td>12.283048</td>\n",
       "    </tr>\n",
       "    <tr>\n",
       "      <th>4</th>\n",
       "      <td>17</td>\n",
       "      <td>67.8</td>\n",
       "      <td>36.6</td>\n",
       "      <td>114.0</td>\n",
       "      <td>12.5</td>\n",
       "      <td>[67.8, 36.6]</td>\n",
       "      <td>13.171620</td>\n",
       "    </tr>\n",
       "  </tbody>\n",
       "</table>\n",
       "</div>"
      ],
      "text/plain": [
       "   id     TV  Radio  Newspaper  label      features  prediction\n",
       "0   3   17.2   45.9       69.3    9.3  [17.2, 45.9]   12.773880\n",
       "1   6    8.7   48.9       75.0    7.2   [8.7, 48.9]   12.991416\n",
       "2   9    8.6    2.1        1.0    4.8    [8.6, 2.1]    3.731130\n",
       "3  10  199.8    2.6       21.2   10.6  [199.8, 2.6]   12.283048\n",
       "4  17   67.8   36.6      114.0   12.5  [67.8, 36.6]   13.171620"
      ]
     },
     "execution_count": 28,
     "metadata": {},
     "output_type": "execute_result"
    }
   ],
   "source": [
    "result_df = pipeline_model.transform(test_df)\n",
    "result=result_df.toPandas()\n",
    "result.head()"
   ]
  },
  {
   "cell_type": "code",
   "execution_count": 29,
   "metadata": {},
   "outputs": [
    {
     "data": {
      "text/plain": [
       "[VectorAssembler_b77800798516, LinearRegression_62efe9dd99e2]"
      ]
     },
     "execution_count": 29,
     "metadata": {},
     "output_type": "execute_result"
    }
   ],
   "source": [
    "pipeline_model.stages"
   ]
  },
  {
   "cell_type": "markdown",
   "metadata": {},
   "source": [
    "<span style=\"color:red\"> pipeline_model.stages içerisinde <span style=\"color:blue\">VectorAssembler </span> ve <span style=\"color:blue\"> LinearRegression</span> bulunmakta.</span>"
   ]
  },
  {
   "cell_type": "markdown",
   "metadata": {},
   "source": [
    "<span style=\"color:red\"> Bizim merak ettiğimiz değerler  <span style=\"color:blue\">r2 </span> değeri, <span style=\"color:blue\"> rmsa</span> değeri bunu da <span style=\"color:blue\">LinearRegression </span> içerisinden almalıyız alalım.</span>"
   ]
  },
  {
   "cell_type": "markdown",
   "metadata": {},
   "source": [
    "<span style=\"color:green\">pipeline_model.stages[1] diyeceğiz çünkü [VectorAssembler_c2f5e5bc864b, LinearRegression_acd90e6acfb2] den görüldüğü gibi LinearRegression  1.indis (index) numaralı elemanıdır. </span>"
   ]
  },
  {
   "cell_type": "markdown",
   "metadata": {},
   "source": [
    "# Taking Linear Model Inside Pipeline Model (lineer modeli pipeline model içinden almak)"
   ]
  },
  {
   "cell_type": "code",
   "execution_count": 30,
   "metadata": {},
   "outputs": [],
   "source": [
    "lr_model = pipeline_model.stages[1]"
   ]
  },
  {
   "cell_type": "code",
   "execution_count": 31,
   "metadata": {},
   "outputs": [
    {
     "data": {
      "text/plain": [
       "DenseVector([0.0442, 0.1978])"
      ]
     },
     "execution_count": 31,
     "metadata": {},
     "output_type": "execute_result"
    }
   ],
   "source": [
    "lr_model.coefficients"
   ]
  },
  {
   "cell_type": "code",
   "execution_count": 32,
   "metadata": {},
   "outputs": [
    {
     "data": {
      "text/plain": [
       "2.935593134859488"
      ]
     },
     "execution_count": 32,
     "metadata": {},
     "output_type": "execute_result"
    }
   ],
   "source": [
    "lr_model.intercept"
   ]
  },
  {
   "cell_type": "code",
   "execution_count": 33,
   "metadata": {},
   "outputs": [
    {
     "data": {
      "text/plain": [
       "0.8928931248714045"
      ]
     },
     "execution_count": 33,
     "metadata": {},
     "output_type": "execute_result"
    }
   ],
   "source": [
    "lr_model.summary.r2"
   ]
  },
  {
   "cell_type": "markdown",
   "metadata": {},
   "source": [
    "<span style=\"color:red\">Toplam değişkenliğin %89 unu açıklayabiliyor modelimiz. </span>"
   ]
  },
  {
   "cell_type": "markdown",
   "metadata": {},
   "source": [
    "<span style=\"color:blue\">En az bir p değeri anlamlı ise model anlamlı sayılabilir. datalegs </span>"
   ]
  },
  {
   "cell_type": "code",
   "execution_count": 34,
   "metadata": {},
   "outputs": [
    {
     "data": {
      "text/plain": [
       "1.6578475603790448"
      ]
     },
     "execution_count": 34,
     "metadata": {},
     "output_type": "execute_result"
    }
   ],
   "source": [
    "lr_model.summary.rootMeanSquaredError"
   ]
  },
  {
   "cell_type": "code",
   "execution_count": 35,
   "metadata": {},
   "outputs": [
    {
     "data": {
      "text/plain": [
       "[0.0, 0.0, 3.774758283725532e-15]"
      ]
     },
     "execution_count": 35,
     "metadata": {},
     "output_type": "execute_result"
    }
   ],
   "source": [
    "lr_model.summary.pValues"
   ]
  },
  {
   "cell_type": "code",
   "execution_count": 36,
   "metadata": {},
   "outputs": [
    {
     "data": {
      "text/plain": [
       "[27.918094216203865, 21.216582516976807, 8.740412243937218]"
      ]
     },
     "execution_count": 36,
     "metadata": {},
     "output_type": "execute_result"
    }
   ],
   "source": [
    "lr_model.summary.tValues"
   ]
  },
  {
   "cell_type": "code",
   "execution_count": 37,
   "metadata": {},
   "outputs": [
    {
     "data": {
      "text/html": [
       "        <script type=\"text/javascript\">\n",
       "        window.PlotlyConfig = {MathJaxConfig: 'local'};\n",
       "        if (window.MathJax) {MathJax.Hub.Config({SVG: {font: \"STIX-Web\"}});}\n",
       "        if (typeof require !== 'undefined') {\n",
       "        require.undef(\"plotly\");\n",
       "        requirejs.config({\n",
       "            paths: {\n",
       "                'plotly': ['https://cdn.plot.ly/plotly-latest.min']\n",
       "            }\n",
       "        });\n",
       "        require(['plotly'], function(Plotly) {\n",
       "            window._Plotly = Plotly;\n",
       "        });\n",
       "        }\n",
       "        </script>\n",
       "        "
      ]
     },
     "metadata": {},
     "output_type": "display_data"
    }
   ],
   "source": [
    "# This Python 3 environment comes with many helpful analytics libraries installed\n",
    "# It is defined by the kaggle/python docker image: https://github.com/kaggle/docker-python\n",
    "# For example, here's several helpful packages to load in \n",
    "\n",
    "import numpy as np # linear algebra\n",
    "import pandas as pd # data processing, CSV file I/O (e.g. pd.read_csv)\n",
    "\n",
    "# plotly\n",
    "import plotly.plotly as py\n",
    "from plotly.offline import init_notebook_mode, iplot\n",
    "init_notebook_mode(connected=True)\n",
    "import plotly.graph_objs as go\n",
    "\n",
    "# word cloud library\n",
    "#from wordcloud import WordCloud\n",
    "\n",
    "# matplotlib\n",
    "import matplotlib.pyplot as plt\n",
    "# Input data files are available in the \"../input/\" directory.\n",
    "# For example, running this (by clicking run or pressing Shift+Enter) will list the files in the input directory\n",
    "\n",
    "#import os\n",
    "#print(os.listdir(\"../input\"))\n",
    "\n",
    "# Any results you write to the current directory are saved as output."
   ]
  },
  {
   "cell_type": "code",
   "execution_count": 39,
   "metadata": {},
   "outputs": [
    {
     "data": {
      "application/vnd.plotly.v1+json": {
       "config": {
        "linkText": "Export to plot.ly",
        "plotlyServerURL": "https://plot.ly",
        "showLink": false
       },
       "data": [
        {
         "marker": {
          "color": [
           45.9,
           48.9,
           2.1,
           2.6,
           36.6,
           29.3,
           28.3,
           20,
           1.4,
           22.3,
           33.4,
           25.7,
           9.9,
           3.1,
           41.7,
           49.4,
           42.7,
           15.5,
           43.7,
           1.6,
           43,
           14,
           42.3,
           36.3,
           17.2,
           0.3,
           15.4,
           46.8,
           14.3,
           32.3,
           11.8,
           38.6,
           47,
           39.7,
           21.1,
           37.6,
           5.2,
           20.9,
           48.9,
           28.7,
           4.1,
           4.9,
           8.6
          ],
          "size": 10
         },
         "mode": "markers",
         "type": "scatter3d",
         "uid": "0fd7bb68-e1e5-4937-855a-1b96f19cb4f6",
         "x": [
          12.773880092306051,
          12.991416292608632,
          3.7311299623411647,
          12.283048090086764,
          13.171620350151164,
          15.048065488333695,
          21.481852313425215,
          18.633376415055622,
          7.443414374123052,
          16.298581718126993,
          17.366517607649,
          9.128089376455595,
          8.859238549536848,
          12.381935539756826,
          20.749939485122752,
          21.49912400885802,
          22.93276186064275,
          16.58065554567471,
          12.325512190308913,
          4.467819289949489,
          20.878836660925902,
          10.452639920314294,
          24.10922758739909,
          23.218787948382953,
          14.644457723647676,
          6.991546803918997,
          13.749095884581678,
          15.648712602981032,
          11.91786347569584,
          19.47001182192594,
          9.124484829542558,
          12.201068433598495,
          14.36637627911235,
          18.360500127963387,
          15.411358789924543,
          11.163295715830362,
          13.106735708844566,
          14.341701222194803,
          24.84864865589241,
          17.06034238284699,
          4.506889299888829,
          8.069310904569173,
          14.897693777455128
         ],
         "y": [
          9.3,
          7.2,
          4.8,
          10.6,
          12.5,
          15,
          21.4,
          17.4,
          9.5,
          16.6,
          17.1,
          8.5,
          10.6,
          11.4,
          22.6,
          23.7,
          24.2,
          15.7,
          8.7,
          6.9,
          21.7,
          11.5,
          25.4,
          23.8,
          14.7,
          8.7,
          14.1,
          14.6,
          12.2,
          19.7,
          10.6,
          10.8,
          11.6,
          19,
          15.6,
          8,
          12.2,
          14.5,
          27,
          17.3,
          5.9,
          9.7,
          13.4
         ],
         "z": [
          69.3,
          75,
          1,
          21.2,
          114,
          12.6,
          43.2,
          0.3,
          7.4,
          31.6,
          38.7,
          43.3,
          35.7,
          34.6,
          39.6,
          60,
          54.7,
          27.3,
          89.4,
          20.7,
          33.8,
          10.9,
          51.2,
          100.9,
          17.9,
          23.2,
          2.4,
          34.5,
          25.6,
          74.2,
          25.9,
          65.6,
          8.5,
          37.7,
          9.5,
          21.6,
          19.4,
          47.4,
          41.8,
          18.2,
          31.6,
          8.1,
          8.7
         ]
        }
       ],
       "layout": {
        "margin": {
         "b": 0,
         "l": 0,
         "r": 0,
         "t": 0
        }
       }
      },
      "text/html": [
       "<div>\n",
       "        \n",
       "        \n",
       "            <div id=\"a57c81e4-e7c4-4041-99b9-8e81877c9692\" class=\"plotly-graph-div\" style=\"height:525px; width:100%;\"></div>\n",
       "            <script type=\"text/javascript\">\n",
       "                require([\"plotly\"], function(Plotly) {\n",
       "                    window.PLOTLYENV=window.PLOTLYENV || {};\n",
       "                    window.PLOTLYENV.BASE_URL='https://plot.ly';\n",
       "                    \n",
       "                if (document.getElementById(\"a57c81e4-e7c4-4041-99b9-8e81877c9692\")) {\n",
       "                    Plotly.newPlot(\n",
       "                        'a57c81e4-e7c4-4041-99b9-8e81877c9692',\n",
       "                        [{\"marker\": {\"color\": [45.9, 48.9, 2.1, 2.6, 36.6, 29.3, 28.3, 20.0, 1.4, 22.3, 33.4, 25.7, 9.9, 3.1, 41.7, 49.4, 42.7, 15.5, 43.7, 1.6, 43.0, 14.0, 42.3, 36.3, 17.2, 0.3, 15.4, 46.8, 14.3, 32.3, 11.8, 38.6, 47.0, 39.7, 21.1, 37.6, 5.2, 20.9, 48.9, 28.7, 4.1, 4.9, 8.6], \"size\": 10}, \"mode\": \"markers\", \"type\": \"scatter3d\", \"uid\": \"0fd7bb68-e1e5-4937-855a-1b96f19cb4f6\", \"x\": [12.773880092306051, 12.991416292608632, 3.7311299623411647, 12.283048090086764, 13.171620350151164, 15.048065488333695, 21.481852313425215, 18.633376415055622, 7.443414374123052, 16.298581718126993, 17.366517607649, 9.128089376455595, 8.859238549536848, 12.381935539756826, 20.749939485122752, 21.49912400885802, 22.93276186064275, 16.58065554567471, 12.325512190308913, 4.467819289949489, 20.878836660925902, 10.452639920314294, 24.10922758739909, 23.218787948382953, 14.644457723647676, 6.991546803918997, 13.749095884581678, 15.648712602981032, 11.91786347569584, 19.47001182192594, 9.124484829542558, 12.201068433598495, 14.36637627911235, 18.360500127963387, 15.411358789924543, 11.163295715830362, 13.106735708844566, 14.341701222194803, 24.84864865589241, 17.06034238284699, 4.506889299888829, 8.069310904569173, 14.897693777455128], \"y\": [9.3, 7.2, 4.8, 10.6, 12.5, 15.0, 21.4, 17.4, 9.5, 16.6, 17.1, 8.5, 10.6, 11.4, 22.6, 23.7, 24.2, 15.7, 8.7, 6.9, 21.7, 11.5, 25.4, 23.8, 14.7, 8.7, 14.1, 14.6, 12.2, 19.7, 10.6, 10.8, 11.6, 19.0, 15.6, 8.0, 12.2, 14.5, 27.0, 17.3, 5.9, 9.7, 13.4], \"z\": [69.3, 75.0, 1.0, 21.2, 114.0, 12.6, 43.2, 0.3, 7.4, 31.6, 38.7, 43.3, 35.7, 34.6, 39.6, 60.0, 54.7, 27.3, 89.4, 20.7, 33.8, 10.9, 51.2, 100.9, 17.9, 23.2, 2.4, 34.5, 25.6, 74.2, 25.9, 65.6, 8.5, 37.7, 9.5, 21.6, 19.4, 47.4, 41.8, 18.2, 31.6, 8.1, 8.7]}],\n",
       "                        {\"margin\": {\"b\": 0, \"l\": 0, \"r\": 0, \"t\": 0}},\n",
       "                        {\"showLink\": false, \"linkText\": \"Export to plot.ly\", \"plotlyServerURL\": \"https://plot.ly\", \"responsive\": true}\n",
       "                    ).then(function(){\n",
       "                            \n",
       "var gd = document.getElementById('a57c81e4-e7c4-4041-99b9-8e81877c9692');\n",
       "var x = new MutationObserver(function (mutations, observer) {{\n",
       "        var display = window.getComputedStyle(gd).display;\n",
       "        if (!display || display === 'none') {{\n",
       "            console.log([gd, 'removed!']);\n",
       "            Plotly.purge(gd);\n",
       "            observer.disconnect();\n",
       "        }}\n",
       "}});\n",
       "\n",
       "// Listen for the removal of the full notebook cells\n",
       "var notebookContainer = gd.closest('#notebook-container');\n",
       "if (notebookContainer) {{\n",
       "    x.observe(notebookContainer, {childList: true});\n",
       "}}\n",
       "\n",
       "// Listen for the clearing of the current output cell\n",
       "var outputEl = gd.closest('.output');\n",
       "if (outputEl) {{\n",
       "    x.observe(outputEl, {childList: true});\n",
       "}}\n",
       "\n",
       "                        })\n",
       "                };\n",
       "                });\n",
       "            </script>\n",
       "        </div>"
      ]
     },
     "metadata": {},
     "output_type": "display_data"
    }
   ],
   "source": [
    "# create trace 1 that is 3d scatter\n",
    "trace1 = go.Scatter3d(\n",
    "    x=result.prediction,\n",
    "    y=result.label,\n",
    "    z=result.Newspaper,\n",
    "    mode='markers',\n",
    "    marker=dict(\n",
    "        size=10,\n",
    "        color=result.Radio,                # set color to an array/list of desired values      \n",
    "    )\n",
    ")\n",
    "\n",
    "data = [trace1]\n",
    "layout = go.Layout(\n",
    "    margin=dict(\n",
    "        l=0,\n",
    "        r=0,\n",
    "        b=0,\n",
    "        t=0  \n",
    "    )\n",
    "    \n",
    ")\n",
    "fig = go.Figure(data=data, layout=layout)\n",
    "iplot(fig)"
   ]
  },
  {
   "cell_type": "markdown",
   "metadata": {},
   "source": [
    " # Choosing Model"
   ]
  },
  {
   "cell_type": "markdown",
   "metadata": {},
   "source": [
    "* Şimdi geriye dogru eleme yöntemi ile model seçim yöntemi kullanacağız.Bu yöntemde modele tüm değişkenleri dahil ediyorduk daha sonra pValues 'lara bakıyorduk pValues 'dan eşik değerin üzerinde kalan değerin üzerinde kalan değeri en büyük değeri çıkararak birer birer modeli eğitiyorduk.\n",
    "\n",
    "* Genelde PValues 0.05 kabul edilir anlamlı olması için bundan küçük olmalı\n",
    "\n",
    "* lr_model.summary.pValues daki bulunan ,\n",
    "\n",
    "* [0.0, 0.0, 0.5717102604020492, 3.774758283725532e-15]\n",
    "\n",
    "* değerler olacaktı numerik_nitelikler = [\"TV\",\"Radio\",\"Newspaper\"] olsaydı.\n",
    "\n",
    "* \"Newspaper\" ı yukarıda ,\n",
    "\n",
    "* numerik_nitelikler = [\"TV\",\"Radio\"]\n",
    " \n",
    "* şeklinde bir düzenleme yaptık çünkü pValues değeri 0.05 den büyük oldugundan çıkardık. \n",
    " \n",
    "* birinci pValues \"0.0\" birinci niteliğe ait \"TV\" ,\n",
    "* ikinci pValues \"0.0\" ikinci niteliğe ait \"Radio\" ,\n",
    "* üçüncü pValues \"0.5717102604020492\" üçüncü niteliğe ait \"Newspaper\" olacaktı fakat çıkardık bu değeri,\n",
    "* dördüncü pValues \"3.774758283725532e-15\" dördüncü niteliğe ait \"sabit e ait\",\n",
    "* Kısaca buraya kadar numerik nitelikleri ikiye düşürmüş olduk.\n"
   ]
  },
  {
   "cell_type": "markdown",
   "metadata": {},
   "source": [
    "<span style=\"color:blue\">Geriye doğru eleme yönteminde Newspaper p değeri 0.05 değerinden büyük olduğu (0.5717) için modelden çıkarılır. Bunun için nümerik nitelikler listesinden Newspaper'ı çıkarmamız yeterli. Daha sonra o paragraftan itibaren tekrar çalıştıralım.</span>\n",
    "\n",
    "İkinci denemede tüm p değerleri eşik değer altında kaldığı için regresyon modeli: \n",
    "\n",
    "<span style=\"color:red\">y = 2.935593134859488 + (0.0442 * TV) + (0.1978 * Radio)  </span>"
   ]
  },
  {
   "cell_type": "markdown",
   "metadata": {},
   "source": [
    "# Prediction"
   ]
  },
  {
   "cell_type": "code",
   "execution_count": 40,
   "metadata": {},
   "outputs": [],
   "source": [
    "import pandas as pd\n",
    "d = {'TV': [100.0,250.0,150.0,200.0,300.0,345.0,420.0], 'Radio': [10.0,25.0,400.0,600.0,25.0,15.0,5.0]}\n",
    "pd_df = pd.DataFrame(data=d)"
   ]
  },
  {
   "cell_type": "code",
   "execution_count": 41,
   "metadata": {},
   "outputs": [
    {
     "data": {
      "text/html": [
       "<div>\n",
       "<style scoped>\n",
       "    .dataframe tbody tr th:only-of-type {\n",
       "        vertical-align: middle;\n",
       "    }\n",
       "\n",
       "    .dataframe tbody tr th {\n",
       "        vertical-align: top;\n",
       "    }\n",
       "\n",
       "    .dataframe thead th {\n",
       "        text-align: right;\n",
       "    }\n",
       "</style>\n",
       "<table border=\"1\" class=\"dataframe\">\n",
       "  <thead>\n",
       "    <tr style=\"text-align: right;\">\n",
       "      <th></th>\n",
       "      <th>TV</th>\n",
       "      <th>Radio</th>\n",
       "    </tr>\n",
       "  </thead>\n",
       "  <tbody>\n",
       "    <tr>\n",
       "      <th>0</th>\n",
       "      <td>100.0</td>\n",
       "      <td>10.0</td>\n",
       "    </tr>\n",
       "    <tr>\n",
       "      <th>1</th>\n",
       "      <td>250.0</td>\n",
       "      <td>25.0</td>\n",
       "    </tr>\n",
       "    <tr>\n",
       "      <th>2</th>\n",
       "      <td>150.0</td>\n",
       "      <td>400.0</td>\n",
       "    </tr>\n",
       "    <tr>\n",
       "      <th>3</th>\n",
       "      <td>200.0</td>\n",
       "      <td>600.0</td>\n",
       "    </tr>\n",
       "    <tr>\n",
       "      <th>4</th>\n",
       "      <td>300.0</td>\n",
       "      <td>25.0</td>\n",
       "    </tr>\n",
       "  </tbody>\n",
       "</table>\n",
       "</div>"
      ],
      "text/plain": [
       "      TV  Radio\n",
       "0  100.0   10.0\n",
       "1  250.0   25.0\n",
       "2  150.0  400.0\n",
       "3  200.0  600.0\n",
       "4  300.0   25.0"
      ]
     },
     "execution_count": 41,
     "metadata": {},
     "output_type": "execute_result"
    }
   ],
   "source": [
    "pd_df.head()"
   ]
  },
  {
   "cell_type": "code",
   "execution_count": 42,
   "metadata": {},
   "outputs": [],
   "source": [
    "predict_df = spark.createDataFrame(pd_df)"
   ]
  },
  {
   "cell_type": "code",
   "execution_count": 43,
   "metadata": {},
   "outputs": [
    {
     "name": "stdout",
     "output_type": "stream",
     "text": [
      "+-----+-----+\n",
      "|   TV|Radio|\n",
      "+-----+-----+\n",
      "|100.0| 10.0|\n",
      "|250.0| 25.0|\n",
      "|150.0|400.0|\n",
      "|200.0|600.0|\n",
      "|300.0| 25.0|\n",
      "|345.0| 15.0|\n",
      "|420.0|  5.0|\n",
      "+-----+-----+\n",
      "\n"
     ]
    }
   ],
   "source": [
    "predict_df.show()"
   ]
  },
  {
   "cell_type": "code",
   "execution_count": 51,
   "metadata": {},
   "outputs": [],
   "source": [
    "predict_vec_df = vector_assembler.transform(predict_df)"
   ]
  },
  {
   "cell_type": "code",
   "execution_count": 52,
   "metadata": {},
   "outputs": [],
   "source": [
    "res=lr_model.transform(predict_vec_df)"
   ]
  },
  {
   "cell_type": "code",
   "execution_count": 53,
   "metadata": {},
   "outputs": [
    {
     "name": "stdout",
     "output_type": "stream",
     "text": [
      "+-----+-----+-------------+------------------+\n",
      "|   TV|Radio|     features|        prediction|\n",
      "+-----+-----+-------------+------------------+\n",
      "|100.0| 10.0| [100.0,10.0]| 9.334383277881834|\n",
      "|250.0| 25.0| [250.0,25.0]|18.932568492415353|\n",
      "|150.0|400.0|[150.0,400.0]| 88.67711459534111|\n",
      "|200.0|600.0|[200.0,600.0]|130.44261503817665|\n",
      "|300.0| 25.0| [300.0,25.0]|  21.1430890672259|\n",
      "|345.0| 15.0| [345.0,15.0]|21.154808591154143|\n",
      "|420.0|  5.0|  [420.0,5.0]| 22.49284045996872|\n",
      "+-----+-----+-------------+------------------+\n",
      "\n"
     ]
    }
   ],
   "source": [
    "res.show()"
   ]
  },
  {
   "cell_type": "code",
   "execution_count": 54,
   "metadata": {},
   "outputs": [],
   "source": [
    "pandas_dataframe = res.select(\"*\").toPandas()"
   ]
  },
  {
   "cell_type": "code",
   "execution_count": 60,
   "metadata": {},
   "outputs": [],
   "source": [
    "# Creating trace1\n",
    "trace_m = go.Scatter(\n",
    "                    x = pandas_dataframe.prediction,\n",
    "                    y = pandas_dataframe.TV,\n",
    "                    mode = \"lines\",\n",
    "                    name = \"TV\",\n",
    "                    marker = dict(color = 'rgba(16, 112, 2, 0.8)'),\n",
    "                    text= \"TV\")"
   ]
  },
  {
   "cell_type": "code",
   "execution_count": 61,
   "metadata": {},
   "outputs": [],
   "source": [
    " # Creating trace2\n",
    "trace_n = go.Scatter(\n",
    "                    x = pandas_dataframe.prediction,\n",
    "                    y = pandas_dataframe.Radio,\n",
    "                    mode = \"lines+markers\",\n",
    "                    name = \"Radio\",\n",
    "                    marker = dict(color = 'rgba(80, 26, 80, 0.8)'),\n",
    "                    text= \"RADIO\")"
   ]
  },
  {
   "cell_type": "code",
   "execution_count": 64,
   "metadata": {},
   "outputs": [
    {
     "data": {
      "application/vnd.plotly.v1+json": {
       "config": {
        "linkText": "Export to plot.ly",
        "plotlyServerURL": "https://plot.ly",
        "showLink": false
       },
       "data": [
        {
         "marker": {
          "color": "rgba(16, 112, 2, 0.8)"
         },
         "mode": "lines",
         "name": "TV",
         "text": "TV",
         "type": "scatter",
         "uid": "352ab52c-cb6f-4b39-b50f-f359fccba26b",
         "x": [
          9.334383277881834,
          18.932568492415353,
          88.67711459534111,
          130.44261503817665,
          21.1430890672259,
          21.154808591154143,
          22.49284045996872
         ],
         "y": [
          100,
          250,
          150,
          200,
          300,
          345,
          420
         ]
        },
        {
         "marker": {
          "color": "rgba(80, 26, 80, 0.8)"
         },
         "mode": "lines+markers",
         "name": "Radio",
         "text": "RADIO",
         "type": "scatter",
         "uid": "fa7c6010-d16b-40c8-87c4-c0177b1d5de4",
         "x": [
          9.334383277881834,
          18.932568492415353,
          88.67711459534111,
          130.44261503817665,
          21.1430890672259,
          21.154808591154143,
          22.49284045996872
         ],
         "y": [
          10,
          25,
          400,
          600,
          25,
          15,
          5
         ]
        }
       ],
       "layout": {
        "title": {
         "text": " TV and Radio Advertisement Effect on Sales"
        },
        "xaxis": {
         "ticklen": 5,
         "title": {
          "text": "Prediction"
         },
         "zeroline": false
        }
       }
      },
      "text/html": [
       "<div>\n",
       "        \n",
       "        \n",
       "            <div id=\"57c8e586-2447-4eee-955a-a652ea84c67d\" class=\"plotly-graph-div\" style=\"height:525px; width:100%;\"></div>\n",
       "            <script type=\"text/javascript\">\n",
       "                require([\"plotly\"], function(Plotly) {\n",
       "                    window.PLOTLYENV=window.PLOTLYENV || {};\n",
       "                    window.PLOTLYENV.BASE_URL='https://plot.ly';\n",
       "                    \n",
       "                if (document.getElementById(\"57c8e586-2447-4eee-955a-a652ea84c67d\")) {\n",
       "                    Plotly.newPlot(\n",
       "                        '57c8e586-2447-4eee-955a-a652ea84c67d',\n",
       "                        [{\"marker\": {\"color\": \"rgba(16, 112, 2, 0.8)\"}, \"mode\": \"lines\", \"name\": \"TV\", \"text\": \"TV\", \"type\": \"scatter\", \"uid\": \"352ab52c-cb6f-4b39-b50f-f359fccba26b\", \"x\": [9.334383277881834, 18.932568492415353, 88.67711459534111, 130.44261503817665, 21.1430890672259, 21.154808591154143, 22.49284045996872], \"y\": [100.0, 250.0, 150.0, 200.0, 300.0, 345.0, 420.0]}, {\"marker\": {\"color\": \"rgba(80, 26, 80, 0.8)\"}, \"mode\": \"lines+markers\", \"name\": \"Radio\", \"text\": \"RADIO\", \"type\": \"scatter\", \"uid\": \"fa7c6010-d16b-40c8-87c4-c0177b1d5de4\", \"x\": [9.334383277881834, 18.932568492415353, 88.67711459534111, 130.44261503817665, 21.1430890672259, 21.154808591154143, 22.49284045996872], \"y\": [10.0, 25.0, 400.0, 600.0, 25.0, 15.0, 5.0]}],\n",
       "                        {\"title\": {\"text\": \" TV and Radio Advertisement Effect on Sales\"}, \"xaxis\": {\"ticklen\": 5, \"title\": {\"text\": \"Prediction\"}, \"zeroline\": false}},\n",
       "                        {\"showLink\": false, \"linkText\": \"Export to plot.ly\", \"plotlyServerURL\": \"https://plot.ly\", \"responsive\": true}\n",
       "                    ).then(function(){\n",
       "                            \n",
       "var gd = document.getElementById('57c8e586-2447-4eee-955a-a652ea84c67d');\n",
       "var x = new MutationObserver(function (mutations, observer) {{\n",
       "        var display = window.getComputedStyle(gd).display;\n",
       "        if (!display || display === 'none') {{\n",
       "            console.log([gd, 'removed!']);\n",
       "            Plotly.purge(gd);\n",
       "            observer.disconnect();\n",
       "        }}\n",
       "}});\n",
       "\n",
       "// Listen for the removal of the full notebook cells\n",
       "var notebookContainer = gd.closest('#notebook-container');\n",
       "if (notebookContainer) {{\n",
       "    x.observe(notebookContainer, {childList: true});\n",
       "}}\n",
       "\n",
       "// Listen for the clearing of the current output cell\n",
       "var outputEl = gd.closest('.output');\n",
       "if (outputEl) {{\n",
       "    x.observe(outputEl, {childList: true});\n",
       "}}\n",
       "\n",
       "                        })\n",
       "                };\n",
       "                });\n",
       "            </script>\n",
       "        </div>"
      ]
     },
     "metadata": {},
     "output_type": "display_data"
    }
   ],
   "source": [
    "data = [trace_m, trace_n]\n",
    "layout = dict(title = ' TV and Radio Advertisement Effect on Sales',\n",
    "              xaxis= dict(title= 'Prediction',ticklen= 5,zeroline= False)\n",
    "             )\n",
    "fig = dict(data = data, layout = layout)\n",
    "iplot(fig)"
   ]
  },
  {
   "cell_type": "code",
   "execution_count": null,
   "metadata": {},
   "outputs": [],
   "source": []
  }
 ],
 "metadata": {
  "kernelspec": {
   "display_name": "Python 3",
   "language": "python",
   "name": "python3"
  },
  "language_info": {
   "codemirror_mode": {
    "name": "ipython",
    "version": 3
   },
   "file_extension": ".py",
   "mimetype": "text/x-python",
   "name": "python",
   "nbconvert_exporter": "python",
   "pygments_lexer": "ipython3",
   "version": "3.7.3"
  }
 },
 "nbformat": 4,
 "nbformat_minor": 2
}
