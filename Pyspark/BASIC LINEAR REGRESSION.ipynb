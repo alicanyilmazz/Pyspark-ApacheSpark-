{
 "cells": [
  {
   "cell_type": "code",
   "execution_count": 3,
   "metadata": {},
   "outputs": [],
   "source": [
    "import findspark\n",
    "findspark.init()"
   ]
  },
  {
   "cell_type": "code",
   "execution_count": 4,
   "metadata": {},
   "outputs": [],
   "source": [
    "from pyspark.sql import SparkSession\n",
    "spark = SparkSession.builder \\\n",
    ".appName(\"LinearRegression\") \\\n",
    ".master(\"local[4]\") \\\n",
    ".config(\"spark.driver.memory\",\"2g\") \\\n",
    ".config(\"spark.executor.memory\",\"4g\") \\\n",
    ".getOrCreate()"
   ]
  },
  {
   "cell_type": "markdown",
   "metadata": {},
   "source": [
    "# Reading Data Set"
   ]
  },
  {
   "cell_type": "code",
   "execution_count": 5,
   "metadata": {},
   "outputs": [],
   "source": [
    "df = spark.read.format(\"csv\") \\\n",
    ".option(\"header\",True) \\\n",
    ".option(\"sep\",\",\") \\\n",
    ".option(\"inferSchema\",True) \\\n",
    ".load(\"Q:\\\\SparkDatasets\\\\Advertising.csv\")"
   ]
  },
  {
   "cell_type": "code",
   "execution_count": 6,
   "metadata": {
    "scrolled": true
   },
   "outputs": [
    {
     "data": {
      "text/html": [
       "<div>\n",
       "<style scoped>\n",
       "    .dataframe tbody tr th:only-of-type {\n",
       "        vertical-align: middle;\n",
       "    }\n",
       "\n",
       "    .dataframe tbody tr th {\n",
       "        vertical-align: top;\n",
       "    }\n",
       "\n",
       "    .dataframe thead th {\n",
       "        text-align: right;\n",
       "    }\n",
       "</style>\n",
       "<table border=\"1\" class=\"dataframe\">\n",
       "  <thead>\n",
       "    <tr style=\"text-align: right;\">\n",
       "      <th></th>\n",
       "      <th>_c0</th>\n",
       "      <th>TV</th>\n",
       "      <th>Radio</th>\n",
       "      <th>Newspaper</th>\n",
       "      <th>Sales</th>\n",
       "    </tr>\n",
       "  </thead>\n",
       "  <tbody>\n",
       "    <tr>\n",
       "      <th>0</th>\n",
       "      <td>1</td>\n",
       "      <td>230.1</td>\n",
       "      <td>37.8</td>\n",
       "      <td>69.2</td>\n",
       "      <td>22.1</td>\n",
       "    </tr>\n",
       "    <tr>\n",
       "      <th>1</th>\n",
       "      <td>2</td>\n",
       "      <td>44.5</td>\n",
       "      <td>39.3</td>\n",
       "      <td>45.1</td>\n",
       "      <td>10.4</td>\n",
       "    </tr>\n",
       "    <tr>\n",
       "      <th>2</th>\n",
       "      <td>3</td>\n",
       "      <td>17.2</td>\n",
       "      <td>45.9</td>\n",
       "      <td>69.3</td>\n",
       "      <td>9.3</td>\n",
       "    </tr>\n",
       "    <tr>\n",
       "      <th>3</th>\n",
       "      <td>4</td>\n",
       "      <td>151.5</td>\n",
       "      <td>41.3</td>\n",
       "      <td>58.5</td>\n",
       "      <td>18.5</td>\n",
       "    </tr>\n",
       "    <tr>\n",
       "      <th>4</th>\n",
       "      <td>5</td>\n",
       "      <td>180.8</td>\n",
       "      <td>10.8</td>\n",
       "      <td>58.4</td>\n",
       "      <td>12.9</td>\n",
       "    </tr>\n",
       "  </tbody>\n",
       "</table>\n",
       "</div>"
      ],
      "text/plain": [
       "   _c0     TV  Radio  Newspaper  Sales\n",
       "0    1  230.1   37.8       69.2   22.1\n",
       "1    2   44.5   39.3       45.1   10.4\n",
       "2    3   17.2   45.9       69.3    9.3\n",
       "3    4  151.5   41.3       58.5   18.5\n",
       "4    5  180.8   10.8       58.4   12.9"
      ]
     },
     "execution_count": 6,
     "metadata": {},
     "output_type": "execute_result"
    }
   ],
   "source": [
    "df.toPandas().head()"
   ]
  },
  {
   "cell_type": "markdown",
   "metadata": {},
   "source": [
    "**// Sales (Satışlar) bizim hedef değişkenimiz. \"Tv\" , \"Radio\" , \"Newspaper\" bu üçü ise reklam bütçesi.**"
   ]
  },
  {
   "cell_type": "markdown",
   "metadata": {},
   "source": [
    "**// Reklam bütçesi ile bu satış \"Sales\" değişkenini tahmin etmeye çalışacağız.\"**"
   ]
  },
  {
   "cell_type": "markdown",
   "metadata": {},
   "source": [
    "**// Fakat biz \"Tv\" , \"Radio\" , \"Newspaper\" değişkeni girdi olarak sokmayacağız çünkü o zaman \"Çoklu Linear Regresyon\" olur ki o bizim ileriki konumuz.**"
   ]
  },
  {
   "cell_type": "markdown",
   "metadata": {},
   "source": [
    "**// O yuzden bu üçünü toplayacağım ve bu üçünün toplamından yeni bir sütun oluşturacağım ve adınada Advertisement diyeceğim ki böylece tek bir girdi ve tekbir çıktı olacak ki dolayısıyla basit linear regresyon uygulamış olacağız.**"
   ]
  },
  {
   "cell_type": "code",
   "execution_count": 7,
   "metadata": {},
   "outputs": [
    {
     "data": {
      "text/html": [
       "<div>\n",
       "<style scoped>\n",
       "    .dataframe tbody tr th:only-of-type {\n",
       "        vertical-align: middle;\n",
       "    }\n",
       "\n",
       "    .dataframe tbody tr th {\n",
       "        vertical-align: top;\n",
       "    }\n",
       "\n",
       "    .dataframe thead th {\n",
       "        text-align: right;\n",
       "    }\n",
       "</style>\n",
       "<table border=\"1\" class=\"dataframe\">\n",
       "  <thead>\n",
       "    <tr style=\"text-align: right;\">\n",
       "      <th></th>\n",
       "      <th>_c0</th>\n",
       "      <th>label</th>\n",
       "      <th>Advertisement</th>\n",
       "    </tr>\n",
       "  </thead>\n",
       "  <tbody>\n",
       "    <tr>\n",
       "      <th>0</th>\n",
       "      <td>1</td>\n",
       "      <td>22.1</td>\n",
       "      <td>337.1</td>\n",
       "    </tr>\n",
       "    <tr>\n",
       "      <th>1</th>\n",
       "      <td>2</td>\n",
       "      <td>10.4</td>\n",
       "      <td>128.9</td>\n",
       "    </tr>\n",
       "    <tr>\n",
       "      <th>2</th>\n",
       "      <td>3</td>\n",
       "      <td>9.3</td>\n",
       "      <td>132.4</td>\n",
       "    </tr>\n",
       "    <tr>\n",
       "      <th>3</th>\n",
       "      <td>4</td>\n",
       "      <td>18.5</td>\n",
       "      <td>251.3</td>\n",
       "    </tr>\n",
       "    <tr>\n",
       "      <th>4</th>\n",
       "      <td>5</td>\n",
       "      <td>12.9</td>\n",
       "      <td>250.0</td>\n",
       "    </tr>\n",
       "  </tbody>\n",
       "</table>\n",
       "</div>"
      ],
      "text/plain": [
       "   _c0  label  Advertisement\n",
       "0    1   22.1          337.1\n",
       "1    2   10.4          128.9\n",
       "2    3    9.3          132.4\n",
       "3    4   18.5          251.3\n",
       "4    5   12.9          250.0"
      ]
     },
     "execution_count": 7,
     "metadata": {},
     "output_type": "execute_result"
    }
   ],
   "source": [
    "df2 = df.withColumn(\"Advertisement\", df.TV + df.Radio + df.Newspaper) \\\n",
    ".withColumnRenamed(\"Sales\",\"label\") \\\n",
    ".drop(\"TV\",\"Radio\",\"Newspaper\")\n",
    "\n",
    "df2.toPandas().head()"
   ]
  },
  {
   "cell_type": "markdown",
   "metadata": {},
   "source": [
    "# Data Preparing And Discovering"
   ]
  },
  {
   "cell_type": "code",
   "execution_count": 8,
   "metadata": {},
   "outputs": [
    {
     "data": {
      "text/html": [
       "<div>\n",
       "<style scoped>\n",
       "    .dataframe tbody tr th:only-of-type {\n",
       "        vertical-align: middle;\n",
       "    }\n",
       "\n",
       "    .dataframe tbody tr th {\n",
       "        vertical-align: top;\n",
       "    }\n",
       "\n",
       "    .dataframe thead th {\n",
       "        text-align: right;\n",
       "    }\n",
       "</style>\n",
       "<table border=\"1\" class=\"dataframe\">\n",
       "  <thead>\n",
       "    <tr style=\"text-align: right;\">\n",
       "      <th></th>\n",
       "      <th>summary</th>\n",
       "      <th>label</th>\n",
       "      <th>Advertisement</th>\n",
       "    </tr>\n",
       "  </thead>\n",
       "  <tbody>\n",
       "    <tr>\n",
       "      <th>0</th>\n",
       "      <td>count</td>\n",
       "      <td>200</td>\n",
       "      <td>200</td>\n",
       "    </tr>\n",
       "    <tr>\n",
       "      <th>1</th>\n",
       "      <td>mean</td>\n",
       "      <td>14.022500000000003</td>\n",
       "      <td>200.86049999999992</td>\n",
       "    </tr>\n",
       "    <tr>\n",
       "      <th>2</th>\n",
       "      <td>stddev</td>\n",
       "      <td>5.217456565710477</td>\n",
       "      <td>92.9851805869837</td>\n",
       "    </tr>\n",
       "    <tr>\n",
       "      <th>3</th>\n",
       "      <td>min</td>\n",
       "      <td>1.6</td>\n",
       "      <td>11.7</td>\n",
       "    </tr>\n",
       "    <tr>\n",
       "      <th>4</th>\n",
       "      <td>max</td>\n",
       "      <td>27.0</td>\n",
       "      <td>433.6</td>\n",
       "    </tr>\n",
       "  </tbody>\n",
       "</table>\n",
       "</div>"
      ],
      "text/plain": [
       "  summary               label       Advertisement\n",
       "0   count                 200                 200\n",
       "1    mean  14.022500000000003  200.86049999999992\n",
       "2  stddev   5.217456565710477    92.9851805869837\n",
       "3     min                 1.6                11.7\n",
       "4     max                27.0               433.6"
      ]
     },
     "execution_count": 8,
     "metadata": {},
     "output_type": "execute_result"
    }
   ],
   "source": [
    "df2.describe(\"label\",\"Advertisement\").toPandas().head()"
   ]
  },
  {
   "cell_type": "markdown",
   "metadata": {},
   "source": [
    "**// count : toplam kayıt sayısı , mean : ortalama , stddev : standart sapma , min : min , max : max**"
   ]
  },
  {
   "cell_type": "markdown",
   "metadata": {},
   "source": [
    "**// Kategorik değişkenimiz olmadıgından onehotencoder ve stringindexer yapmayacağız bunlara yönelik bir hazılık yapmayacağız.**"
   ]
  },
  {
   "cell_type": "markdown",
   "metadata": {},
   "source": [
    "# VectorAssembler"
   ]
  },
  {
   "cell_type": "code",
   "execution_count": 9,
   "metadata": {},
   "outputs": [],
   "source": [
    "from pyspark.ml.feature import VectorAssembler\n",
    "vector_assembler = VectorAssembler() \\\n",
    ".setInputCols([\"Advertisement\"]) \\\n",
    ".setOutputCol(\"features\")"
   ]
  },
  {
   "cell_type": "markdown",
   "metadata": {},
   "source": [
    "**//setInputCols \"s\" takısına dikkat çoğul oldugundan girdiyi liste halinde vermeniz gerekmekte.//**"
   ]
  },
  {
   "cell_type": "markdown",
   "metadata": {},
   "source": [
    "**//Inputumuz (Girdi değişkenimiz \"Advertisement\" Output değişkenimize de features diyelim. )**"
   ]
  },
  {
   "cell_type": "markdown",
   "metadata": {},
   "source": [
    "# Regresyon Model"
   ]
  },
  {
   "cell_type": "code",
   "execution_count": 10,
   "metadata": {},
   "outputs": [],
   "source": [
    "from pyspark.ml.regression import LinearRegression\n",
    "linear_reg_obj = LinearRegression() \\\n",
    ".setLabelCol(\"label\")\\\n",
    ".setFeaturesCol(\"features\")"
   ]
  },
  {
   "cell_type": "markdown",
   "metadata": {},
   "source": [
    "# pipeline"
   ]
  },
  {
   "cell_type": "code",
   "execution_count": 11,
   "metadata": {},
   "outputs": [],
   "source": [
    "from pyspark.ml import Pipeline\n",
    "pipeline_obj = Pipeline() \\\n",
    ".setStages([vector_assembler, linear_reg_obj])"
   ]
  },
  {
   "cell_type": "markdown",
   "metadata": {},
   "source": [
    "**Pipeline Stages 'ler alır ve \".setStages([])\" çogul oldugundan liste içerisinde alır ve bunları baglar.**"
   ]
  },
  {
   "cell_type": "markdown",
   "metadata": {},
   "source": [
    "# Sperate Dataset"
   ]
  },
  {
   "cell_type": "code",
   "execution_count": 12,
   "metadata": {},
   "outputs": [],
   "source": [
    "train_df, test_df = df2.randomSplit([0.8, 0.2], seed=142)"
   ]
  },
  {
   "cell_type": "markdown",
   "metadata": {},
   "source": [
    "# Training Model"
   ]
  },
  {
   "cell_type": "code",
   "execution_count": 13,
   "metadata": {},
   "outputs": [],
   "source": [
    "pipeline_model = pipeline_obj.fit(train_df)"
   ]
  },
  {
   "cell_type": "markdown",
   "metadata": {},
   "source": [
    "# Model Transform With Test Data (Modeli Test Etme)"
   ]
  },
  {
   "cell_type": "code",
   "execution_count": 14,
   "metadata": {},
   "outputs": [],
   "source": [
    "result_df = pipeline_model.transform(test_df)"
   ]
  },
  {
   "cell_type": "code",
   "execution_count": 15,
   "metadata": {
    "scrolled": true
   },
   "outputs": [
    {
     "data": {
      "text/html": [
       "<div>\n",
       "<style scoped>\n",
       "    .dataframe tbody tr th:only-of-type {\n",
       "        vertical-align: middle;\n",
       "    }\n",
       "\n",
       "    .dataframe tbody tr th {\n",
       "        vertical-align: top;\n",
       "    }\n",
       "\n",
       "    .dataframe thead th {\n",
       "        text-align: right;\n",
       "    }\n",
       "</style>\n",
       "<table border=\"1\" class=\"dataframe\">\n",
       "  <thead>\n",
       "    <tr style=\"text-align: right;\">\n",
       "      <th></th>\n",
       "      <th>_c0</th>\n",
       "      <th>label</th>\n",
       "      <th>Advertisement</th>\n",
       "      <th>features</th>\n",
       "      <th>prediction</th>\n",
       "    </tr>\n",
       "  </thead>\n",
       "  <tbody>\n",
       "    <tr>\n",
       "      <th>0</th>\n",
       "      <td>3</td>\n",
       "      <td>9.3</td>\n",
       "      <td>132.4</td>\n",
       "      <td>[132.39999999999998]</td>\n",
       "      <td>10.791216</td>\n",
       "    </tr>\n",
       "    <tr>\n",
       "      <th>1</th>\n",
       "      <td>6</td>\n",
       "      <td>7.2</td>\n",
       "      <td>132.6</td>\n",
       "      <td>[132.6]</td>\n",
       "      <td>10.800663</td>\n",
       "    </tr>\n",
       "    <tr>\n",
       "      <th>2</th>\n",
       "      <td>9</td>\n",
       "      <td>4.8</td>\n",
       "      <td>11.7</td>\n",
       "      <td>[11.7]</td>\n",
       "      <td>5.089785</td>\n",
       "    </tr>\n",
       "    <tr>\n",
       "      <th>3</th>\n",
       "      <td>10</td>\n",
       "      <td>10.6</td>\n",
       "      <td>223.6</td>\n",
       "      <td>[223.6]</td>\n",
       "      <td>15.099174</td>\n",
       "    </tr>\n",
       "    <tr>\n",
       "      <th>4</th>\n",
       "      <td>17</td>\n",
       "      <td>12.5</td>\n",
       "      <td>218.4</td>\n",
       "      <td>[218.4]</td>\n",
       "      <td>14.853545</td>\n",
       "    </tr>\n",
       "    <tr>\n",
       "      <th>5</th>\n",
       "      <td>27</td>\n",
       "      <td>15.0</td>\n",
       "      <td>184.8</td>\n",
       "      <td>[184.8]</td>\n",
       "      <td>13.266402</td>\n",
       "    </tr>\n",
       "    <tr>\n",
       "      <th>6</th>\n",
       "      <td>31</td>\n",
       "      <td>21.4</td>\n",
       "      <td>364.4</td>\n",
       "      <td>[364.4]</td>\n",
       "      <td>21.750056</td>\n",
       "    </tr>\n",
       "    <tr>\n",
       "      <th>7</th>\n",
       "      <td>34</td>\n",
       "      <td>17.4</td>\n",
       "      <td>285.9</td>\n",
       "      <td>[285.90000000000003]</td>\n",
       "      <td>18.042000</td>\n",
       "    </tr>\n",
       "    <tr>\n",
       "      <th>8</th>\n",
       "      <td>35</td>\n",
       "      <td>9.5</td>\n",
       "      <td>104.5</td>\n",
       "      <td>[104.50000000000001]</td>\n",
       "      <td>9.473321</td>\n",
       "    </tr>\n",
       "    <tr>\n",
       "      <th>9</th>\n",
       "      <td>41</td>\n",
       "      <td>16.6</td>\n",
       "      <td>256.4</td>\n",
       "      <td>[256.40000000000003]</td>\n",
       "      <td>16.648527</td>\n",
       "    </tr>\n",
       "    <tr>\n",
       "      <th>10</th>\n",
       "      <td>42</td>\n",
       "      <td>17.1</td>\n",
       "      <td>249.1</td>\n",
       "      <td>[249.10000000000002]</td>\n",
       "      <td>16.303702</td>\n",
       "    </tr>\n",
       "    <tr>\n",
       "      <th>11</th>\n",
       "      <td>45</td>\n",
       "      <td>8.5</td>\n",
       "      <td>94.1</td>\n",
       "      <td>[94.1]</td>\n",
       "      <td>8.982063</td>\n",
       "    </tr>\n",
       "    <tr>\n",
       "      <th>12</th>\n",
       "      <td>47</td>\n",
       "      <td>10.6</td>\n",
       "      <td>135.3</td>\n",
       "      <td>[135.3]</td>\n",
       "      <td>10.928202</td>\n",
       "    </tr>\n",
       "    <tr>\n",
       "      <th>13</th>\n",
       "      <td>51</td>\n",
       "      <td>11.4</td>\n",
       "      <td>237.5</td>\n",
       "      <td>[237.5]</td>\n",
       "      <td>15.755760</td>\n",
       "    </tr>\n",
       "    <tr>\n",
       "      <th>14</th>\n",
       "      <td>53</td>\n",
       "      <td>22.6</td>\n",
       "      <td>297.7</td>\n",
       "      <td>[297.70000000000005]</td>\n",
       "      <td>18.599390</td>\n",
       "    </tr>\n",
       "    <tr>\n",
       "      <th>15</th>\n",
       "      <td>56</td>\n",
       "      <td>23.7</td>\n",
       "      <td>308.3</td>\n",
       "      <td>[308.3]</td>\n",
       "      <td>19.100095</td>\n",
       "    </tr>\n",
       "    <tr>\n",
       "      <th>16</th>\n",
       "      <td>62</td>\n",
       "      <td>24.2</td>\n",
       "      <td>358.7</td>\n",
       "      <td>[358.7]</td>\n",
       "      <td>21.480809</td>\n",
       "    </tr>\n",
       "    <tr>\n",
       "      <th>17</th>\n",
       "      <td>63</td>\n",
       "      <td>15.7</td>\n",
       "      <td>282.1</td>\n",
       "      <td>[282.1]</td>\n",
       "      <td>17.862502</td>\n",
       "    </tr>\n",
       "    <tr>\n",
       "      <th>18</th>\n",
       "      <td>76</td>\n",
       "      <td>8.7</td>\n",
       "      <td>150.0</td>\n",
       "      <td>[150.0]</td>\n",
       "      <td>11.622576</td>\n",
       "    </tr>\n",
       "    <tr>\n",
       "      <th>19</th>\n",
       "      <td>77</td>\n",
       "      <td>6.9</td>\n",
       "      <td>49.8</td>\n",
       "      <td>[49.8]</td>\n",
       "      <td>6.889491</td>\n",
       "    </tr>\n",
       "    <tr>\n",
       "      <th>20</th>\n",
       "      <td>85</td>\n",
       "      <td>21.7</td>\n",
       "      <td>290.3</td>\n",
       "      <td>[290.3]</td>\n",
       "      <td>18.249841</td>\n",
       "    </tr>\n",
       "    <tr>\n",
       "      <th>21</th>\n",
       "      <td>95</td>\n",
       "      <td>11.5</td>\n",
       "      <td>132.3</td>\n",
       "      <td>[132.3]</td>\n",
       "      <td>10.786492</td>\n",
       "    </tr>\n",
       "    <tr>\n",
       "      <th>22</th>\n",
       "      <td>99</td>\n",
       "      <td>25.4</td>\n",
       "      <td>383.2</td>\n",
       "      <td>[383.2]</td>\n",
       "      <td>22.638100</td>\n",
       "    </tr>\n",
       "    <tr>\n",
       "      <th>23</th>\n",
       "      <td>102</td>\n",
       "      <td>23.8</td>\n",
       "      <td>433.6</td>\n",
       "      <td>[433.6]</td>\n",
       "      <td>25.018814</td>\n",
       "    </tr>\n",
       "    <tr>\n",
       "      <th>24</th>\n",
       "      <td>104</td>\n",
       "      <td>14.7</td>\n",
       "      <td>223.0</td>\n",
       "      <td>[223.0]</td>\n",
       "      <td>15.070832</td>\n",
       "    </tr>\n",
       "    <tr>\n",
       "      <th>25</th>\n",
       "      <td>108</td>\n",
       "      <td>8.7</td>\n",
       "      <td>113.9</td>\n",
       "      <td>[113.9]</td>\n",
       "      <td>9.917343</td>\n",
       "    </tr>\n",
       "    <tr>\n",
       "      <th>26</th>\n",
       "      <td>113</td>\n",
       "      <td>14.1</td>\n",
       "      <td>193.5</td>\n",
       "      <td>[193.5]</td>\n",
       "      <td>13.677359</td>\n",
       "    </tr>\n",
       "    <tr>\n",
       "      <th>27</th>\n",
       "      <td>115</td>\n",
       "      <td>14.6</td>\n",
       "      <td>159.5</td>\n",
       "      <td>[159.5]</td>\n",
       "      <td>12.071322</td>\n",
       "    </tr>\n",
       "    <tr>\n",
       "      <th>28</th>\n",
       "      <td>117</td>\n",
       "      <td>12.2</td>\n",
       "      <td>179.1</td>\n",
       "      <td>[179.1]</td>\n",
       "      <td>12.997155</td>\n",
       "    </tr>\n",
       "    <tr>\n",
       "      <th>29</th>\n",
       "      <td>125</td>\n",
       "      <td>19.7</td>\n",
       "      <td>336.0</td>\n",
       "      <td>[336.0]</td>\n",
       "      <td>20.408543</td>\n",
       "    </tr>\n",
       "    <tr>\n",
       "      <th>30</th>\n",
       "      <td>126</td>\n",
       "      <td>10.6</td>\n",
       "      <td>124.9</td>\n",
       "      <td>[124.9]</td>\n",
       "      <td>10.436943</td>\n",
       "    </tr>\n",
       "    <tr>\n",
       "      <th>31</th>\n",
       "      <td>135</td>\n",
       "      <td>10.8</td>\n",
       "      <td>141.1</td>\n",
       "      <td>[141.1]</td>\n",
       "      <td>11.202173</td>\n",
       "    </tr>\n",
       "    <tr>\n",
       "      <th>32</th>\n",
       "      <td>136</td>\n",
       "      <td>11.6</td>\n",
       "      <td>103.8</td>\n",
       "      <td>[103.8]</td>\n",
       "      <td>9.440256</td>\n",
       "    </tr>\n",
       "    <tr>\n",
       "      <th>33</th>\n",
       "      <td>154</td>\n",
       "      <td>19.0</td>\n",
       "      <td>248.7</td>\n",
       "      <td>[248.7]</td>\n",
       "      <td>16.284807</td>\n",
       "    </tr>\n",
       "    <tr>\n",
       "      <th>34</th>\n",
       "      <td>155</td>\n",
       "      <td>15.6</td>\n",
       "      <td>218.4</td>\n",
       "      <td>[218.4]</td>\n",
       "      <td>14.853545</td>\n",
       "    </tr>\n",
       "    <tr>\n",
       "      <th>35</th>\n",
       "      <td>167</td>\n",
       "      <td>8.0</td>\n",
       "      <td>77.1</td>\n",
       "      <td>[77.1]</td>\n",
       "      <td>8.179044</td>\n",
       "    </tr>\n",
       "    <tr>\n",
       "      <th>36</th>\n",
       "      <td>168</td>\n",
       "      <td>12.2</td>\n",
       "      <td>231.4</td>\n",
       "      <td>[231.4]</td>\n",
       "      <td>15.467618</td>\n",
       "    </tr>\n",
       "    <tr>\n",
       "      <th>37</th>\n",
       "      <td>172</td>\n",
       "      <td>14.5</td>\n",
       "      <td>232.8</td>\n",
       "      <td>[232.8]</td>\n",
       "      <td>15.533749</td>\n",
       "    </tr>\n",
       "    <tr>\n",
       "      <th>38</th>\n",
       "      <td>176</td>\n",
       "      <td>27.0</td>\n",
       "      <td>367.6</td>\n",
       "      <td>[367.59999999999997]</td>\n",
       "      <td>21.901213</td>\n",
       "    </tr>\n",
       "    <tr>\n",
       "      <th>39</th>\n",
       "      <td>188</td>\n",
       "      <td>17.3</td>\n",
       "      <td>238.0</td>\n",
       "      <td>[237.99999999999997]</td>\n",
       "      <td>15.779378</td>\n",
       "    </tr>\n",
       "    <tr>\n",
       "      <th>40</th>\n",
       "      <td>193</td>\n",
       "      <td>5.9</td>\n",
       "      <td>52.9</td>\n",
       "      <td>[52.9]</td>\n",
       "      <td>7.035924</td>\n",
       "    </tr>\n",
       "    <tr>\n",
       "      <th>41</th>\n",
       "      <td>197</td>\n",
       "      <td>9.7</td>\n",
       "      <td>107.2</td>\n",
       "      <td>[107.2]</td>\n",
       "      <td>9.600859</td>\n",
       "    </tr>\n",
       "    <tr>\n",
       "      <th>42</th>\n",
       "      <td>200</td>\n",
       "      <td>13.4</td>\n",
       "      <td>249.4</td>\n",
       "      <td>[249.39999999999998]</td>\n",
       "      <td>16.317873</td>\n",
       "    </tr>\n",
       "  </tbody>\n",
       "</table>\n",
       "</div>"
      ],
      "text/plain": [
       "    _c0  label  Advertisement              features  prediction\n",
       "0     3    9.3          132.4  [132.39999999999998]   10.791216\n",
       "1     6    7.2          132.6               [132.6]   10.800663\n",
       "2     9    4.8           11.7                [11.7]    5.089785\n",
       "3    10   10.6          223.6               [223.6]   15.099174\n",
       "4    17   12.5          218.4               [218.4]   14.853545\n",
       "5    27   15.0          184.8               [184.8]   13.266402\n",
       "6    31   21.4          364.4               [364.4]   21.750056\n",
       "7    34   17.4          285.9  [285.90000000000003]   18.042000\n",
       "8    35    9.5          104.5  [104.50000000000001]    9.473321\n",
       "9    41   16.6          256.4  [256.40000000000003]   16.648527\n",
       "10   42   17.1          249.1  [249.10000000000002]   16.303702\n",
       "11   45    8.5           94.1                [94.1]    8.982063\n",
       "12   47   10.6          135.3               [135.3]   10.928202\n",
       "13   51   11.4          237.5               [237.5]   15.755760\n",
       "14   53   22.6          297.7  [297.70000000000005]   18.599390\n",
       "15   56   23.7          308.3               [308.3]   19.100095\n",
       "16   62   24.2          358.7               [358.7]   21.480809\n",
       "17   63   15.7          282.1               [282.1]   17.862502\n",
       "18   76    8.7          150.0               [150.0]   11.622576\n",
       "19   77    6.9           49.8                [49.8]    6.889491\n",
       "20   85   21.7          290.3               [290.3]   18.249841\n",
       "21   95   11.5          132.3               [132.3]   10.786492\n",
       "22   99   25.4          383.2               [383.2]   22.638100\n",
       "23  102   23.8          433.6               [433.6]   25.018814\n",
       "24  104   14.7          223.0               [223.0]   15.070832\n",
       "25  108    8.7          113.9               [113.9]    9.917343\n",
       "26  113   14.1          193.5               [193.5]   13.677359\n",
       "27  115   14.6          159.5               [159.5]   12.071322\n",
       "28  117   12.2          179.1               [179.1]   12.997155\n",
       "29  125   19.7          336.0               [336.0]   20.408543\n",
       "30  126   10.6          124.9               [124.9]   10.436943\n",
       "31  135   10.8          141.1               [141.1]   11.202173\n",
       "32  136   11.6          103.8               [103.8]    9.440256\n",
       "33  154   19.0          248.7               [248.7]   16.284807\n",
       "34  155   15.6          218.4               [218.4]   14.853545\n",
       "35  167    8.0           77.1                [77.1]    8.179044\n",
       "36  168   12.2          231.4               [231.4]   15.467618\n",
       "37  172   14.5          232.8               [232.8]   15.533749\n",
       "38  176   27.0          367.6  [367.59999999999997]   21.901213\n",
       "39  188   17.3          238.0  [237.99999999999997]   15.779378\n",
       "40  193    5.9           52.9                [52.9]    7.035924\n",
       "41  197    9.7          107.2               [107.2]    9.600859\n",
       "42  200   13.4          249.4  [249.39999999999998]   16.317873"
      ]
     },
     "execution_count": 15,
     "metadata": {},
     "output_type": "execute_result"
    }
   ],
   "source": [
    "result_df.toPandas().head(200)"
   ]
  },
  {
   "cell_type": "markdown",
   "metadata": {},
   "source": [
    "**// Suan bu yaptıgımız tahminin önümüzdeki adımlarda ne kadar iyi ne kadar kötü olduguna bakacağız ama muhtemelen ortalamadan daha iyi bir tahminde bulunduk diye düşünüyorum.**"
   ]
  },
  {
   "cell_type": "code",
   "execution_count": 16,
   "metadata": {},
   "outputs": [],
   "source": [
    "#import numpy as np # linear algebra\n",
    "#import pandas as pd # data processing, CSV file I/O (e.g. pd.read_csv)\n",
    "#import seaborn as sns\n",
    "#import matplotlib.pyplot as plt\n",
    "#from collections import Counter\n",
    "#%matplotlib inline"
   ]
  },
  {
   "cell_type": "code",
   "execution_count": 17,
   "metadata": {},
   "outputs": [
    {
     "data": {
      "text/html": [
       "        <script type=\"text/javascript\">\n",
       "        window.PlotlyConfig = {MathJaxConfig: 'local'};\n",
       "        if (window.MathJax) {MathJax.Hub.Config({SVG: {font: \"STIX-Web\"}});}\n",
       "        if (typeof require !== 'undefined') {\n",
       "        require.undef(\"plotly\");\n",
       "        requirejs.config({\n",
       "            paths: {\n",
       "                'plotly': ['https://cdn.plot.ly/plotly-latest.min']\n",
       "            }\n",
       "        });\n",
       "        require(['plotly'], function(Plotly) {\n",
       "            window._Plotly = Plotly;\n",
       "        });\n",
       "        }\n",
       "        </script>\n",
       "        "
      ]
     },
     "metadata": {},
     "output_type": "display_data"
    }
   ],
   "source": [
    "# This Python 3 environment comes with many helpful analytics libraries installed\n",
    "# It is defined by the kaggle/python docker image: https://github.com/kaggle/docker-python\n",
    "# For example, here's several helpful packages to load in \n",
    "\n",
    "import numpy as np # linear algebra\n",
    "import pandas as pd # data processing, CSV file I/O (e.g. pd.read_csv)\n",
    "\n",
    "# plotly\n",
    "import plotly.plotly as py\n",
    "from plotly.offline import init_notebook_mode, iplot\n",
    "init_notebook_mode(connected=True)\n",
    "import plotly.graph_objs as go\n",
    "\n",
    "# word cloud library\n",
    "#from wordcloud import WordCloud\n",
    "\n",
    "# matplotlib\n",
    "import matplotlib.pyplot as plt\n",
    "# Input data files are available in the \"../input/\" directory.\n",
    "# For example, running this (by clicking run or pressing Shift+Enter) will list the files in the input directory\n",
    "\n",
    "#import os\n",
    "#print(os.listdir(\"../input\"))\n",
    "\n",
    "# Any results you write to the current directory are saved as output."
   ]
  },
  {
   "cell_type": "code",
   "execution_count": 18,
   "metadata": {},
   "outputs": [],
   "source": [
    "pandas_df = result_df.select(\"*\").toPandas()\n"
   ]
  },
  {
   "cell_type": "code",
   "execution_count": 19,
   "metadata": {},
   "outputs": [],
   "source": [
    "# Creating trace1\n",
    "trace1 = go.Scatter(\n",
    "                    x = pandas_df.Advertisement,\n",
    "                    y = pandas_df.label,\n",
    "                    mode = \"lines+markers\",\n",
    "                    name = \"sales\",\n",
    "                    marker = dict(color = 'rgba(16, 112, 2, 0.8)'),\n",
    "                    text= \"sales information\")"
   ]
  },
  {
   "cell_type": "code",
   "execution_count": 20,
   "metadata": {},
   "outputs": [],
   "source": [
    " # Creating trace2\n",
    "trace2 = go.Scatter(\n",
    "                    x = pandas_df.Advertisement,\n",
    "                    y = pandas_df.prediction,\n",
    "                    mode = \"lines+markers\",\n",
    "                    name = \"prediction\",\n",
    "                    marker = dict(color = 'rgba(80, 26, 80, 0.8)'),\n",
    "                    text= \"prediction information\")"
   ]
  },
  {
   "cell_type": "code",
   "execution_count": 21,
   "metadata": {},
   "outputs": [
    {
     "data": {
      "application/vnd.plotly.v1+json": {
       "config": {
        "linkText": "Export to plot.ly",
        "plotlyServerURL": "https://plot.ly",
        "showLink": false
       },
       "data": [
        {
         "marker": {
          "color": "rgba(16, 112, 2, 0.8)"
         },
         "mode": "lines+markers",
         "name": "sales",
         "text": "sales information",
         "type": "scatter",
         "uid": "711e7933-3832-4ccf-95fa-f3b75cc95676",
         "x": [
          132.39999999999998,
          132.6,
          11.7,
          223.6,
          218.4,
          184.8,
          364.4,
          285.90000000000003,
          104.50000000000001,
          256.40000000000003,
          249.10000000000002,
          94.1,
          135.3,
          237.5,
          297.70000000000005,
          308.3,
          358.7,
          282.1,
          150,
          49.8,
          290.3,
          132.3,
          383.2,
          433.6,
          223,
          113.9,
          193.5,
          159.5,
          179.1,
          336,
          124.9,
          141.1,
          103.8,
          248.7,
          218.4,
          77.1,
          231.4,
          232.8,
          367.59999999999997,
          237.99999999999997,
          52.9,
          107.2,
          249.39999999999998
         ],
         "y": [
          9.3,
          7.2,
          4.8,
          10.6,
          12.5,
          15,
          21.4,
          17.4,
          9.5,
          16.6,
          17.1,
          8.5,
          10.6,
          11.4,
          22.6,
          23.7,
          24.2,
          15.7,
          8.7,
          6.9,
          21.7,
          11.5,
          25.4,
          23.8,
          14.7,
          8.7,
          14.1,
          14.6,
          12.2,
          19.7,
          10.6,
          10.8,
          11.6,
          19,
          15.6,
          8,
          12.2,
          14.5,
          27,
          17.3,
          5.9,
          9.7,
          13.4
         ]
        },
        {
         "marker": {
          "color": "rgba(80, 26, 80, 0.8)"
         },
         "mode": "lines+markers",
         "name": "prediction",
         "text": "prediction information",
         "type": "scatter",
         "uid": "657da955-0040-42e4-928a-a5da5721aae4",
         "x": [
          132.39999999999998,
          132.6,
          11.7,
          223.6,
          218.4,
          184.8,
          364.4,
          285.90000000000003,
          104.50000000000001,
          256.40000000000003,
          249.10000000000002,
          94.1,
          135.3,
          237.5,
          297.70000000000005,
          308.3,
          358.7,
          282.1,
          150,
          49.8,
          290.3,
          132.3,
          383.2,
          433.6,
          223,
          113.9,
          193.5,
          159.5,
          179.1,
          336,
          124.9,
          141.1,
          103.8,
          248.7,
          218.4,
          77.1,
          231.4,
          232.8,
          367.59999999999997,
          237.99999999999997,
          52.9,
          107.2,
          249.39999999999998
         ],
         "y": [
          10.791216092027314,
          10.800663368104441,
          5.089784979481191,
          15.099173983197211,
          14.853544805191913,
          13.266402424234581,
          21.750056341494595,
          18.042000481222264,
          9.473321079268104,
          16.648527259846038,
          16.3037016830309,
          8.982062723257501,
          10.928201595145657,
          15.755759670557538,
          18.599389769772756,
          19.100095401860482,
          21.48080897329648,
          17.86250223575685,
          11.622576386814488,
          6.889491072173879,
          18.249840554919057,
          10.786492453988753,
          22.638100292744532,
          25.01881386418053,
          15.070832154965832,
          9.91734305489307,
          13.677358933589606,
          12.07132200047802,
          12.997155056036462,
          20.408543138542566,
          10.436943239135054,
          11.202172601382339,
          9.44025561299816,
          16.284807130876647,
          14.853544805191913,
          8.179044256701708,
          15.467617750205164,
          15.533748682745053,
          21.901212758728626,
          15.779377860750351,
          7.035923851369347,
          9.600859306309317,
          16.31787259714659
         ]
        }
       ],
       "layout": {
        "title": {
         "text": "Efficieny of Advertisement on Sales"
        },
        "xaxis": {
         "ticklen": 5,
         "title": {
          "text": "Advertisement"
         },
         "zeroline": false
        }
       }
      },
      "text/html": [
       "<div>\n",
       "        \n",
       "        \n",
       "            <div id=\"a8b7073f-b6dc-431c-b74c-342e662a5b02\" class=\"plotly-graph-div\" style=\"height:525px; width:100%;\"></div>\n",
       "            <script type=\"text/javascript\">\n",
       "                require([\"plotly\"], function(Plotly) {\n",
       "                    window.PLOTLYENV=window.PLOTLYENV || {};\n",
       "                    window.PLOTLYENV.BASE_URL='https://plot.ly';\n",
       "                    \n",
       "                if (document.getElementById(\"a8b7073f-b6dc-431c-b74c-342e662a5b02\")) {\n",
       "                    Plotly.newPlot(\n",
       "                        'a8b7073f-b6dc-431c-b74c-342e662a5b02',\n",
       "                        [{\"marker\": {\"color\": \"rgba(16, 112, 2, 0.8)\"}, \"mode\": \"lines+markers\", \"name\": \"sales\", \"text\": \"sales information\", \"type\": \"scatter\", \"uid\": \"711e7933-3832-4ccf-95fa-f3b75cc95676\", \"x\": [132.39999999999998, 132.6, 11.7, 223.6, 218.4, 184.8, 364.4, 285.90000000000003, 104.50000000000001, 256.40000000000003, 249.10000000000002, 94.1, 135.3, 237.5, 297.70000000000005, 308.3, 358.7, 282.1, 150.0, 49.8, 290.3, 132.3, 383.2, 433.6, 223.0, 113.9, 193.5, 159.5, 179.1, 336.0, 124.9, 141.1, 103.8, 248.7, 218.4, 77.1, 231.4, 232.8, 367.59999999999997, 237.99999999999997, 52.9, 107.2, 249.39999999999998], \"y\": [9.3, 7.2, 4.8, 10.6, 12.5, 15.0, 21.4, 17.4, 9.5, 16.6, 17.1, 8.5, 10.6, 11.4, 22.6, 23.7, 24.2, 15.7, 8.7, 6.9, 21.7, 11.5, 25.4, 23.8, 14.7, 8.7, 14.1, 14.6, 12.2, 19.7, 10.6, 10.8, 11.6, 19.0, 15.6, 8.0, 12.2, 14.5, 27.0, 17.3, 5.9, 9.7, 13.4]}, {\"marker\": {\"color\": \"rgba(80, 26, 80, 0.8)\"}, \"mode\": \"lines+markers\", \"name\": \"prediction\", \"text\": \"prediction information\", \"type\": \"scatter\", \"uid\": \"657da955-0040-42e4-928a-a5da5721aae4\", \"x\": [132.39999999999998, 132.6, 11.7, 223.6, 218.4, 184.8, 364.4, 285.90000000000003, 104.50000000000001, 256.40000000000003, 249.10000000000002, 94.1, 135.3, 237.5, 297.70000000000005, 308.3, 358.7, 282.1, 150.0, 49.8, 290.3, 132.3, 383.2, 433.6, 223.0, 113.9, 193.5, 159.5, 179.1, 336.0, 124.9, 141.1, 103.8, 248.7, 218.4, 77.1, 231.4, 232.8, 367.59999999999997, 237.99999999999997, 52.9, 107.2, 249.39999999999998], \"y\": [10.791216092027314, 10.800663368104441, 5.089784979481191, 15.099173983197211, 14.853544805191913, 13.266402424234581, 21.750056341494595, 18.042000481222264, 9.473321079268104, 16.648527259846038, 16.3037016830309, 8.982062723257501, 10.928201595145657, 15.755759670557538, 18.599389769772756, 19.100095401860482, 21.48080897329648, 17.86250223575685, 11.622576386814488, 6.889491072173879, 18.249840554919057, 10.786492453988753, 22.638100292744532, 25.01881386418053, 15.070832154965832, 9.91734305489307, 13.677358933589606, 12.07132200047802, 12.997155056036462, 20.408543138542566, 10.436943239135054, 11.202172601382339, 9.44025561299816, 16.284807130876647, 14.853544805191913, 8.179044256701708, 15.467617750205164, 15.533748682745053, 21.901212758728626, 15.779377860750351, 7.035923851369347, 9.600859306309317, 16.31787259714659]}],\n",
       "                        {\"title\": {\"text\": \"Efficieny of Advertisement on Sales\"}, \"xaxis\": {\"ticklen\": 5, \"title\": {\"text\": \"Advertisement\"}, \"zeroline\": false}},\n",
       "                        {\"showLink\": false, \"linkText\": \"Export to plot.ly\", \"plotlyServerURL\": \"https://plot.ly\", \"responsive\": true}\n",
       "                    ).then(function(){\n",
       "                            \n",
       "var gd = document.getElementById('a8b7073f-b6dc-431c-b74c-342e662a5b02');\n",
       "var x = new MutationObserver(function (mutations, observer) {{\n",
       "        var display = window.getComputedStyle(gd).display;\n",
       "        if (!display || display === 'none') {{\n",
       "            console.log([gd, 'removed!']);\n",
       "            Plotly.purge(gd);\n",
       "            observer.disconnect();\n",
       "        }}\n",
       "}});\n",
       "\n",
       "// Listen for the removal of the full notebook cells\n",
       "var notebookContainer = gd.closest('#notebook-container');\n",
       "if (notebookContainer) {{\n",
       "    x.observe(notebookContainer, {childList: true});\n",
       "}}\n",
       "\n",
       "// Listen for the clearing of the current output cell\n",
       "var outputEl = gd.closest('.output');\n",
       "if (outputEl) {{\n",
       "    x.observe(outputEl, {childList: true});\n",
       "}}\n",
       "\n",
       "                        })\n",
       "                };\n",
       "                });\n",
       "            </script>\n",
       "        </div>"
      ]
     },
     "metadata": {},
     "output_type": "display_data"
    }
   ],
   "source": [
    "data = [trace1, trace2]\n",
    "layout = dict(title = 'Efficieny of Advertisement on Sales',\n",
    "              xaxis= dict(title= 'Advertisement',ticklen= 5,zeroline= False)\n",
    "             )\n",
    "fig = dict(data = data, layout = layout)\n",
    "iplot(fig)"
   ]
  },
  {
   "cell_type": "code",
   "execution_count": 22,
   "metadata": {},
   "outputs": [
    {
     "data": {
      "application/vnd.plotly.v1+json": {
       "config": {
        "linkText": "Export to plot.ly",
        "plotlyServerURL": "https://plot.ly",
        "showLink": false
       },
       "data": [
        {
         "marker": {
          "color": "rgba(255, 128, 255, 0.8)"
         },
         "mode": "markers",
         "name": "Sales",
         "text": "Sales Information",
         "type": "scatter",
         "uid": "07a5a6ce-3239-436f-aac9-3fef409135ff",
         "x": [
          132.39999999999998,
          132.6,
          11.7,
          223.6,
          218.4,
          184.8,
          364.4,
          285.90000000000003,
          104.50000000000001,
          256.40000000000003,
          249.10000000000002,
          94.1,
          135.3,
          237.5,
          297.70000000000005,
          308.3,
          358.7,
          282.1,
          150,
          49.8,
          290.3,
          132.3,
          383.2,
          433.6,
          223,
          113.9,
          193.5,
          159.5,
          179.1,
          336,
          124.9,
          141.1,
          103.8,
          248.7,
          218.4,
          77.1,
          231.4,
          232.8,
          367.59999999999997,
          237.99999999999997,
          52.9,
          107.2,
          249.39999999999998
         ],
         "y": [
          9.3,
          7.2,
          4.8,
          10.6,
          12.5,
          15,
          21.4,
          17.4,
          9.5,
          16.6,
          17.1,
          8.5,
          10.6,
          11.4,
          22.6,
          23.7,
          24.2,
          15.7,
          8.7,
          6.9,
          21.7,
          11.5,
          25.4,
          23.8,
          14.7,
          8.7,
          14.1,
          14.6,
          12.2,
          19.7,
          10.6,
          10.8,
          11.6,
          19,
          15.6,
          8,
          12.2,
          14.5,
          27,
          17.3,
          5.9,
          9.7,
          13.4
         ]
        },
        {
         "marker": {
          "color": "rgba(255, 128, 2, 0.8)"
         },
         "mode": "markers",
         "name": "Prediction",
         "text": "Prediction Information",
         "type": "scatter",
         "uid": "a12c2316-291e-43cf-953c-5a955ea69b1f",
         "x": [
          132.39999999999998,
          132.6,
          11.7,
          223.6,
          218.4,
          184.8,
          364.4,
          285.90000000000003,
          104.50000000000001,
          256.40000000000003,
          249.10000000000002,
          94.1,
          135.3,
          237.5,
          297.70000000000005,
          308.3,
          358.7,
          282.1,
          150,
          49.8,
          290.3,
          132.3,
          383.2,
          433.6,
          223,
          113.9,
          193.5,
          159.5,
          179.1,
          336,
          124.9,
          141.1,
          103.8,
          248.7,
          218.4,
          77.1,
          231.4,
          232.8,
          367.59999999999997,
          237.99999999999997,
          52.9,
          107.2,
          249.39999999999998
         ],
         "y": [
          10.791216092027314,
          10.800663368104441,
          5.089784979481191,
          15.099173983197211,
          14.853544805191913,
          13.266402424234581,
          21.750056341494595,
          18.042000481222264,
          9.473321079268104,
          16.648527259846038,
          16.3037016830309,
          8.982062723257501,
          10.928201595145657,
          15.755759670557538,
          18.599389769772756,
          19.100095401860482,
          21.48080897329648,
          17.86250223575685,
          11.622576386814488,
          6.889491072173879,
          18.249840554919057,
          10.786492453988753,
          22.638100292744532,
          25.01881386418053,
          15.070832154965832,
          9.91734305489307,
          13.677358933589606,
          12.07132200047802,
          12.997155056036462,
          20.408543138542566,
          10.436943239135054,
          11.202172601382339,
          9.44025561299816,
          16.284807130876647,
          14.853544805191913,
          8.179044256701708,
          15.467617750205164,
          15.533748682745053,
          21.901212758728626,
          15.779377860750351,
          7.035923851369347,
          9.600859306309317,
          16.31787259714659
         ]
        }
       ],
       "layout": {
        "title": {
         "text": "Efficieny of Advertisement on Sales"
        },
        "xaxis": {
         "ticklen": 5,
         "title": {
          "text": "Advertisement"
         },
         "zeroline": false
        },
        "yaxis": {
         "ticklen": 5,
         "title": {
          "text": "Sales Info"
         },
         "zeroline": false
        }
       }
      },
      "text/html": [
       "<div>\n",
       "        \n",
       "        \n",
       "            <div id=\"93e581a8-2757-4759-9151-a40d25d90a0a\" class=\"plotly-graph-div\" style=\"height:525px; width:100%;\"></div>\n",
       "            <script type=\"text/javascript\">\n",
       "                require([\"plotly\"], function(Plotly) {\n",
       "                    window.PLOTLYENV=window.PLOTLYENV || {};\n",
       "                    window.PLOTLYENV.BASE_URL='https://plot.ly';\n",
       "                    \n",
       "                if (document.getElementById(\"93e581a8-2757-4759-9151-a40d25d90a0a\")) {\n",
       "                    Plotly.newPlot(\n",
       "                        '93e581a8-2757-4759-9151-a40d25d90a0a',\n",
       "                        [{\"marker\": {\"color\": \"rgba(255, 128, 255, 0.8)\"}, \"mode\": \"markers\", \"name\": \"Sales\", \"text\": \"Sales Information\", \"type\": \"scatter\", \"uid\": \"07a5a6ce-3239-436f-aac9-3fef409135ff\", \"x\": [132.39999999999998, 132.6, 11.7, 223.6, 218.4, 184.8, 364.4, 285.90000000000003, 104.50000000000001, 256.40000000000003, 249.10000000000002, 94.1, 135.3, 237.5, 297.70000000000005, 308.3, 358.7, 282.1, 150.0, 49.8, 290.3, 132.3, 383.2, 433.6, 223.0, 113.9, 193.5, 159.5, 179.1, 336.0, 124.9, 141.1, 103.8, 248.7, 218.4, 77.1, 231.4, 232.8, 367.59999999999997, 237.99999999999997, 52.9, 107.2, 249.39999999999998], \"y\": [9.3, 7.2, 4.8, 10.6, 12.5, 15.0, 21.4, 17.4, 9.5, 16.6, 17.1, 8.5, 10.6, 11.4, 22.6, 23.7, 24.2, 15.7, 8.7, 6.9, 21.7, 11.5, 25.4, 23.8, 14.7, 8.7, 14.1, 14.6, 12.2, 19.7, 10.6, 10.8, 11.6, 19.0, 15.6, 8.0, 12.2, 14.5, 27.0, 17.3, 5.9, 9.7, 13.4]}, {\"marker\": {\"color\": \"rgba(255, 128, 2, 0.8)\"}, \"mode\": \"markers\", \"name\": \"Prediction\", \"text\": \"Prediction Information\", \"type\": \"scatter\", \"uid\": \"a12c2316-291e-43cf-953c-5a955ea69b1f\", \"x\": [132.39999999999998, 132.6, 11.7, 223.6, 218.4, 184.8, 364.4, 285.90000000000003, 104.50000000000001, 256.40000000000003, 249.10000000000002, 94.1, 135.3, 237.5, 297.70000000000005, 308.3, 358.7, 282.1, 150.0, 49.8, 290.3, 132.3, 383.2, 433.6, 223.0, 113.9, 193.5, 159.5, 179.1, 336.0, 124.9, 141.1, 103.8, 248.7, 218.4, 77.1, 231.4, 232.8, 367.59999999999997, 237.99999999999997, 52.9, 107.2, 249.39999999999998], \"y\": [10.791216092027314, 10.800663368104441, 5.089784979481191, 15.099173983197211, 14.853544805191913, 13.266402424234581, 21.750056341494595, 18.042000481222264, 9.473321079268104, 16.648527259846038, 16.3037016830309, 8.982062723257501, 10.928201595145657, 15.755759670557538, 18.599389769772756, 19.100095401860482, 21.48080897329648, 17.86250223575685, 11.622576386814488, 6.889491072173879, 18.249840554919057, 10.786492453988753, 22.638100292744532, 25.01881386418053, 15.070832154965832, 9.91734305489307, 13.677358933589606, 12.07132200047802, 12.997155056036462, 20.408543138542566, 10.436943239135054, 11.202172601382339, 9.44025561299816, 16.284807130876647, 14.853544805191913, 8.179044256701708, 15.467617750205164, 15.533748682745053, 21.901212758728626, 15.779377860750351, 7.035923851369347, 9.600859306309317, 16.31787259714659]}],\n",
       "                        {\"title\": {\"text\": \"Efficieny of Advertisement on Sales\"}, \"xaxis\": {\"ticklen\": 5, \"title\": {\"text\": \"Advertisement\"}, \"zeroline\": false}, \"yaxis\": {\"ticklen\": 5, \"title\": {\"text\": \"Sales Info\"}, \"zeroline\": false}},\n",
       "                        {\"showLink\": false, \"linkText\": \"Export to plot.ly\", \"plotlyServerURL\": \"https://plot.ly\", \"responsive\": true}\n",
       "                    ).then(function(){\n",
       "                            \n",
       "var gd = document.getElementById('93e581a8-2757-4759-9151-a40d25d90a0a');\n",
       "var x = new MutationObserver(function (mutations, observer) {{\n",
       "        var display = window.getComputedStyle(gd).display;\n",
       "        if (!display || display === 'none') {{\n",
       "            console.log([gd, 'removed!']);\n",
       "            Plotly.purge(gd);\n",
       "            observer.disconnect();\n",
       "        }}\n",
       "}});\n",
       "\n",
       "// Listen for the removal of the full notebook cells\n",
       "var notebookContainer = gd.closest('#notebook-container');\n",
       "if (notebookContainer) {{\n",
       "    x.observe(notebookContainer, {childList: true});\n",
       "}}\n",
       "\n",
       "// Listen for the clearing of the current output cell\n",
       "var outputEl = gd.closest('.output');\n",
       "if (outputEl) {{\n",
       "    x.observe(outputEl, {childList: true});\n",
       "}}\n",
       "\n",
       "                        })\n",
       "                };\n",
       "                });\n",
       "            </script>\n",
       "        </div>"
      ]
     },
     "metadata": {},
     "output_type": "display_data"
    }
   ],
   "source": [
    "# prepare data frames\n",
    "\n",
    "# import graph objects as \"go\"\n",
    "import plotly.graph_objs as go\n",
    "# creating trace1\n",
    "trace1 =go.Scatter(\n",
    "                    x = pandas_df.Advertisement,\n",
    "                    y = pandas_df.label,\n",
    "                    mode = \"markers\",\n",
    "                    name = \"Sales\",\n",
    "                    marker = dict(color = 'rgba(255, 128, 255, 0.8)'),\n",
    "                    text= \"Sales Information\")\n",
    "# creating trace2\n",
    "trace2 =go.Scatter(\n",
    "                    x = pandas_df.Advertisement,\n",
    "                    y = pandas_df.prediction,\n",
    "                    mode = \"markers\",\n",
    "                    name = \"Prediction\",\n",
    "                    marker = dict(color = 'rgba(255, 128, 2, 0.8)'),\n",
    "                    text= \"Prediction Information\")\n",
    "\n",
    "data = [trace1, trace2]\n",
    "layout = dict(title = 'Efficieny of Advertisement on Sales',\n",
    "              xaxis= dict(title= 'Advertisement',ticklen= 5,zeroline= False),\n",
    "              yaxis= dict(title= 'Sales Info',ticklen= 5,zeroline= False)\n",
    "             )\n",
    "fig = dict(data = data, layout = layout)\n",
    "iplot(fig)"
   ]
  },
  {
   "cell_type": "markdown",
   "metadata": {},
   "source": [
    "# LinearRegresyon Modelini Pipeline Stages arasından alma"
   ]
  },
  {
   "cell_type": "code",
   "execution_count": 23,
   "metadata": {},
   "outputs": [],
   "source": [
    "lrModel = pipeline_model.stages[1]"
   ]
  },
  {
   "cell_type": "code",
   "execution_count": 24,
   "metadata": {},
   "outputs": [
    {
     "data": {
      "text/plain": [
       "DenseVector([0.0472])"
      ]
     },
     "execution_count": 24,
     "metadata": {},
     "output_type": "execute_result"
    }
   ],
   "source": [
    "lrModel.coefficients"
   ]
  },
  {
   "cell_type": "markdown",
   "metadata": {},
   "source": [
    "<span style=\"color:deeppink\">coefficients (katsayımızı) buluyoruz denklemimizdeki </span>"
   ]
  },
  {
   "cell_type": "code",
   "execution_count": 25,
   "metadata": {},
   "outputs": [
    {
     "data": {
      "text/plain": [
       "0.7204575410444246"
      ]
     },
     "execution_count": 25,
     "metadata": {},
     "output_type": "execute_result"
    }
   ],
   "source": [
    "lrModel.summary.r2"
   ]
  },
  {
   "cell_type": "code",
   "execution_count": 26,
   "metadata": {},
   "outputs": [
    {
     "data": {
      "text/plain": [
       "4.537119328969264"
      ]
     },
     "execution_count": 26,
     "metadata": {},
     "output_type": "execute_result"
    }
   ],
   "source": [
    "lrModel.intercept "
   ]
  },
  {
   "cell_type": "markdown",
   "metadata": {},
   "source": [
    "<span style=\"color:deeppink\">intercept (sabit) buluyoruz denklemimizdeki </span>"
   ]
  },
  {
   "cell_type": "code",
   "execution_count": 27,
   "metadata": {},
   "outputs": [
    {
     "data": {
      "text/plain": [
       "0.7204575410444246"
      ]
     },
     "execution_count": 27,
     "metadata": {},
     "output_type": "execute_result"
    }
   ],
   "source": [
    "lrModel.summary.r2"
   ]
  },
  {
   "cell_type": "markdown",
   "metadata": {},
   "source": [
    "<span style=\"color:deeppink\">spark kütüphanesinden r2 ye bakabilirsiniz. </span>"
   ]
  },
  {
   "cell_type": "markdown",
   "metadata": {},
   "source": [
    "<span style=\"color:green\">r2 nin anlamı şu değişkenliği \"1\" kabul ettiğimizde bizim modelimiz bu değişkenliğin %72 sini açıklayabiliyormuş. </span>"
   ]
  },
  {
   "cell_type": "markdown",
   "metadata": {},
   "source": [
    "<span style=\"color:blue\">Bu model anlamlı mı değil mi buna karar vermek için p değerlerine bakacağız. </span>"
   ]
  },
  {
   "cell_type": "markdown",
   "metadata": {},
   "source": [
    "<span style=\"color:#17A589\">0.0 Bizim Advertisement bütçesinin katsayısı ve anlamlı , 3.1086244689504383e-15 sabitimizde anlamlı eğer anlamlılık derecesini 0.015 den asagıya tutarsak anlamlı bir model olur.</span>"
   ]
  },
  {
   "cell_type": "code",
   "execution_count": 28,
   "metadata": {},
   "outputs": [
    {
     "data": {
      "text/plain": [
       "[0.0, 3.1086244689504383e-15]"
      ]
     },
     "execution_count": 28,
     "metadata": {},
     "output_type": "execute_result"
    }
   ],
   "source": [
    "lrModel.summary.pValues"
   ]
  },
  {
   "cell_type": "markdown",
   "metadata": {},
   "source": [
    "<span style=\"color:#E59866\">Her bir niteliğin hedef değişkene olan 2 li t testinin istatistikleri  asagıda bunların anlamlılık derecesi ise \"pValues\" ile gösteriliyor.</span>"
   ]
  },
  {
   "cell_type": "code",
   "execution_count": 29,
   "metadata": {},
   "outputs": [
    {
     "data": {
      "text/plain": [
       "[19.986932892719693, 8.769612805482973]"
      ]
     },
     "execution_count": 29,
     "metadata": {},
     "output_type": "execute_result"
    }
   ],
   "source": [
    "lrModel.summary.tValues"
   ]
  },
  {
   "cell_type": "markdown",
   "metadata": {},
   "source": [
    "<span style=\"color:#8E44AD\"> rootMeanSquaredError yani hataların karalerinin ortalaması ne kadarmış ona bakalım.</span>"
   ]
  },
  {
   "cell_type": "code",
   "execution_count": 30,
   "metadata": {},
   "outputs": [
    {
     "data": {
      "text/plain": [
       "2.678303634403656"
      ]
     },
     "execution_count": 30,
     "metadata": {},
     "output_type": "execute_result"
    }
   ],
   "source": [
    "lrModel.summary.rootMeanSquaredError"
   ]
  },
  {
   "cell_type": "markdown",
   "metadata": {},
   "source": [
    "<span style=\"color:#8E44AD\"> Zaten yukarıdan label'a ait stdev e bakarsanız 5.217456565710477. bizim hataların ortalaması 2.678303634403656 standart sapmaya göre düşük bir hata sayılabilir.</span>"
   ]
  },
  {
   "cell_type": "code",
   "execution_count": 31,
   "metadata": {},
   "outputs": [],
   "source": [
    "# Dogrumuz,\n",
    "# y=4.537119328969264 + 0.0472 * Advertisement"
   ]
  },
  {
   "cell_type": "markdown",
   "metadata": {},
   "source": [
    "# Prediction"
   ]
  },
  {
   "cell_type": "code",
   "execution_count": 32,
   "metadata": {},
   "outputs": [],
   "source": [
    "# 100 bin liralık bir reklam bütçesi ile ne kadar satış gerçekleşeceğini tahmin edelim.\n",
    "df_predict_rdd = spark.sparkContext.parallelize([100.0,200.0,300.0,400.0,500.0,600.0,700.0,800.0,900.0,1000.0])\n",
    "df_predict = df_predict_rdd.map(lambda x: (x,)).toDF([\"Advertisement\"])"
   ]
  },
  {
   "cell_type": "code",
   "execution_count": 33,
   "metadata": {},
   "outputs": [
    {
     "name": "stdout",
     "output_type": "stream",
     "text": [
      "+-------------+\n",
      "|Advertisement|\n",
      "+-------------+\n",
      "|        100.0|\n",
      "|        200.0|\n",
      "|        300.0|\n",
      "|        400.0|\n",
      "|        500.0|\n",
      "|        600.0|\n",
      "|        700.0|\n",
      "|        800.0|\n",
      "|        900.0|\n",
      "|       1000.0|\n",
      "+-------------+\n",
      "\n"
     ]
    }
   ],
   "source": [
    "df_predict.show()"
   ]
  },
  {
   "cell_type": "code",
   "execution_count": 34,
   "metadata": {},
   "outputs": [],
   "source": [
    "df_pred_vec = vector_assembler.transform(df_predict)"
   ]
  },
  {
   "cell_type": "code",
   "execution_count": 35,
   "metadata": {},
   "outputs": [],
   "source": [
    "result=lrModel.transform(df_pred_vec).toPandas()"
   ]
  },
  {
   "cell_type": "code",
   "execution_count": 36,
   "metadata": {},
   "outputs": [
    {
     "data": {
      "text/html": [
       "<div>\n",
       "<style scoped>\n",
       "    .dataframe tbody tr th:only-of-type {\n",
       "        vertical-align: middle;\n",
       "    }\n",
       "\n",
       "    .dataframe tbody tr th {\n",
       "        vertical-align: top;\n",
       "    }\n",
       "\n",
       "    .dataframe thead th {\n",
       "        text-align: right;\n",
       "    }\n",
       "</style>\n",
       "<table border=\"1\" class=\"dataframe\">\n",
       "  <thead>\n",
       "    <tr style=\"text-align: right;\">\n",
       "      <th></th>\n",
       "      <th>Advertisement</th>\n",
       "      <th>features</th>\n",
       "      <th>prediction</th>\n",
       "    </tr>\n",
       "  </thead>\n",
       "  <tbody>\n",
       "    <tr>\n",
       "      <th>0</th>\n",
       "      <td>100.0</td>\n",
       "      <td>[100.0]</td>\n",
       "      <td>9.260757</td>\n",
       "    </tr>\n",
       "    <tr>\n",
       "      <th>1</th>\n",
       "      <td>200.0</td>\n",
       "      <td>[200.0]</td>\n",
       "      <td>13.984395</td>\n",
       "    </tr>\n",
       "    <tr>\n",
       "      <th>2</th>\n",
       "      <td>300.0</td>\n",
       "      <td>[300.0]</td>\n",
       "      <td>18.708033</td>\n",
       "    </tr>\n",
       "    <tr>\n",
       "      <th>3</th>\n",
       "      <td>400.0</td>\n",
       "      <td>[400.0]</td>\n",
       "      <td>23.431671</td>\n",
       "    </tr>\n",
       "    <tr>\n",
       "      <th>4</th>\n",
       "      <td>500.0</td>\n",
       "      <td>[500.0]</td>\n",
       "      <td>28.155310</td>\n",
       "    </tr>\n",
       "    <tr>\n",
       "      <th>5</th>\n",
       "      <td>600.0</td>\n",
       "      <td>[600.0]</td>\n",
       "      <td>32.878948</td>\n",
       "    </tr>\n",
       "    <tr>\n",
       "      <th>6</th>\n",
       "      <td>700.0</td>\n",
       "      <td>[700.0]</td>\n",
       "      <td>37.602586</td>\n",
       "    </tr>\n",
       "    <tr>\n",
       "      <th>7</th>\n",
       "      <td>800.0</td>\n",
       "      <td>[800.0]</td>\n",
       "      <td>42.326224</td>\n",
       "    </tr>\n",
       "    <tr>\n",
       "      <th>8</th>\n",
       "      <td>900.0</td>\n",
       "      <td>[900.0]</td>\n",
       "      <td>47.049862</td>\n",
       "    </tr>\n",
       "    <tr>\n",
       "      <th>9</th>\n",
       "      <td>1000.0</td>\n",
       "      <td>[1000.0]</td>\n",
       "      <td>51.773500</td>\n",
       "    </tr>\n",
       "  </tbody>\n",
       "</table>\n",
       "</div>"
      ],
      "text/plain": [
       "   Advertisement  features  prediction\n",
       "0          100.0   [100.0]    9.260757\n",
       "1          200.0   [200.0]   13.984395\n",
       "2          300.0   [300.0]   18.708033\n",
       "3          400.0   [400.0]   23.431671\n",
       "4          500.0   [500.0]   28.155310\n",
       "5          600.0   [600.0]   32.878948\n",
       "6          700.0   [700.0]   37.602586\n",
       "7          800.0   [800.0]   42.326224\n",
       "8          900.0   [900.0]   47.049862\n",
       "9         1000.0  [1000.0]   51.773500"
      ]
     },
     "execution_count": 36,
     "metadata": {},
     "output_type": "execute_result"
    }
   ],
   "source": [
    "result.head(10)"
   ]
  },
  {
   "cell_type": "code",
   "execution_count": 37,
   "metadata": {},
   "outputs": [],
   "source": [
    "# Creating trace1\n",
    "trace_predict = go.Scatter(\n",
    "                    x = result.Advertisement,\n",
    "                    y = result.prediction,\n",
    "                    mode = \"lines+markers\",\n",
    "                    name = \"prediction\",\n",
    "                    marker = dict(color = 'rgba(241, 196, 15, 0.8)'),\n",
    "                    text= \"Advertisement Prediction\")"
   ]
  },
  {
   "cell_type": "code",
   "execution_count": 38,
   "metadata": {},
   "outputs": [
    {
     "data": {
      "application/vnd.plotly.v1+json": {
       "config": {
        "linkText": "Export to plot.ly",
        "plotlyServerURL": "https://plot.ly",
        "showLink": false
       },
       "data": [
        {
         "marker": {
          "color": "rgba(241, 196, 15, 0.8)"
         },
         "mode": "lines+markers",
         "name": "prediction",
         "text": "Advertisement Prediction",
         "type": "scatter",
         "uid": "dff807b2-f8fc-49e3-a014-64fee3732a36",
         "x": [
          100,
          200,
          300,
          400,
          500,
          600,
          700,
          800,
          900,
          1000
         ],
         "y": [
          9.260757367532747,
          13.98439540609623,
          18.708033444659712,
          23.431671483223198,
          28.15530952178668,
          32.87894756035016,
          37.60258559891364,
          42.32622363747713,
          47.04986167604061,
          51.77349971460409
         ]
        }
       ],
       "layout": {
        "title": {
         "text": "New Sales Prediction According To Budget"
        },
        "xaxis": {
         "ticklen": 5,
         "title": {
          "text": "Advertisement"
         },
         "zeroline": false
        }
       }
      },
      "text/html": [
       "<div>\n",
       "        \n",
       "        \n",
       "            <div id=\"68a70d1a-8405-4331-82b9-472ca8315b1e\" class=\"plotly-graph-div\" style=\"height:525px; width:100%;\"></div>\n",
       "            <script type=\"text/javascript\">\n",
       "                require([\"plotly\"], function(Plotly) {\n",
       "                    window.PLOTLYENV=window.PLOTLYENV || {};\n",
       "                    window.PLOTLYENV.BASE_URL='https://plot.ly';\n",
       "                    \n",
       "                if (document.getElementById(\"68a70d1a-8405-4331-82b9-472ca8315b1e\")) {\n",
       "                    Plotly.newPlot(\n",
       "                        '68a70d1a-8405-4331-82b9-472ca8315b1e',\n",
       "                        [{\"marker\": {\"color\": \"rgba(241, 196, 15, 0.8)\"}, \"mode\": \"lines+markers\", \"name\": \"prediction\", \"text\": \"Advertisement Prediction\", \"type\": \"scatter\", \"uid\": \"dff807b2-f8fc-49e3-a014-64fee3732a36\", \"x\": [100.0, 200.0, 300.0, 400.0, 500.0, 600.0, 700.0, 800.0, 900.0, 1000.0], \"y\": [9.260757367532747, 13.98439540609623, 18.708033444659712, 23.431671483223198, 28.15530952178668, 32.87894756035016, 37.60258559891364, 42.32622363747713, 47.04986167604061, 51.77349971460409]}],\n",
       "                        {\"title\": {\"text\": \"New Sales Prediction According To Budget\"}, \"xaxis\": {\"ticklen\": 5, \"title\": {\"text\": \"Advertisement\"}, \"zeroline\": false}},\n",
       "                        {\"showLink\": false, \"linkText\": \"Export to plot.ly\", \"plotlyServerURL\": \"https://plot.ly\", \"responsive\": true}\n",
       "                    ).then(function(){\n",
       "                            \n",
       "var gd = document.getElementById('68a70d1a-8405-4331-82b9-472ca8315b1e');\n",
       "var x = new MutationObserver(function (mutations, observer) {{\n",
       "        var display = window.getComputedStyle(gd).display;\n",
       "        if (!display || display === 'none') {{\n",
       "            console.log([gd, 'removed!']);\n",
       "            Plotly.purge(gd);\n",
       "            observer.disconnect();\n",
       "        }}\n",
       "}});\n",
       "\n",
       "// Listen for the removal of the full notebook cells\n",
       "var notebookContainer = gd.closest('#notebook-container');\n",
       "if (notebookContainer) {{\n",
       "    x.observe(notebookContainer, {childList: true});\n",
       "}}\n",
       "\n",
       "// Listen for the clearing of the current output cell\n",
       "var outputEl = gd.closest('.output');\n",
       "if (outputEl) {{\n",
       "    x.observe(outputEl, {childList: true});\n",
       "}}\n",
       "\n",
       "                        })\n",
       "                };\n",
       "                });\n",
       "            </script>\n",
       "        </div>"
      ]
     },
     "metadata": {},
     "output_type": "display_data"
    }
   ],
   "source": [
    "data = [trace_predict]\n",
    "layout = dict(title = 'New Sales Prediction According To Budget',\n",
    "              xaxis= dict(title= 'Advertisement',ticklen= 5,zeroline= False)\n",
    "             )\n",
    "fig = dict(data = data, layout = layout)\n",
    "iplot(fig)"
   ]
  },
  {
   "cell_type": "code",
   "execution_count": null,
   "metadata": {},
   "outputs": [],
   "source": []
  }
 ],
 "metadata": {
  "kernelspec": {
   "display_name": "Python 3",
   "language": "python",
   "name": "python3"
  },
  "language_info": {
   "codemirror_mode": {
    "name": "ipython",
    "version": 3
   },
   "file_extension": ".py",
   "mimetype": "text/x-python",
   "name": "python",
   "nbconvert_exporter": "python",
   "pygments_lexer": "ipython3",
   "version": "3.7.3"
  }
 },
 "nbformat": 4,
 "nbformat_minor": 2
}
